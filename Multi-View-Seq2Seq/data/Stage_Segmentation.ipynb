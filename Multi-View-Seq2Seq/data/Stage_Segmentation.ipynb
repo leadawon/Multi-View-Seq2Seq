{
 "cells": [
  {
   "cell_type": "code",
   "execution_count": 1,
   "metadata": {},
   "outputs": [],
   "source": [
    "import pickle\n",
    "with open('train_sentence_transformer.pkl', 'rb') as f:\n",
    "    train = pickle.load(f)\n",
    "with open('val_sentence_transformer.pkl', 'rb') as f:\n",
    "    val = pickle.load(f)\n",
    "with open('test_sentence_transformer.pkl', 'rb') as f:\n",
    "    test = pickle.load(f)"
   ]
  },
  {
   "cell_type": "code",
   "execution_count": 2,
   "metadata": {},
   "outputs": [],
   "source": [
    "import json\n",
    "with open('test.json', encoding = 'utf8') as json_file:\n",
    "    data = json.load(json_file)\n",
    "    \n",
    "conversations = []\n",
    "summaries = []\n",
    "for i in range(0, len(data)):\n",
    "    if len(data[i]['dialogue'].split('\\r\\n')) > 1:\n",
    "        sentences = data[i]['dialogue'].split('\\r\\n')\n",
    "    else:\n",
    "        sentences = data[i]['dialogue'].split('\\n')\n",
    "\n",
    "    conversations.append(sentences)\n",
    "    summaries.append(data[i]['summary'].strip('\\n').replace('\\r\\nt', ' '))"
   ]
  },
  {
   "cell_type": "code",
   "execution_count": 3,
   "metadata": {},
   "outputs": [],
   "source": [
    "import numpy as np\n",
    "length = []\n",
    "for i in range(0, len(train)):\n",
    "    length.append(len(train[i]))\n",
    "for i in range(0, len(val)):\n",
    "    length.append(len(val[i]))\n",
    "for i in range(0, len(test)):\n",
    "    length.append(len(test[i]))\n",
    "X = []\n",
    "for i in range(0, len(train)):\n",
    "    for j in range(0, len(train[i])):\n",
    "        X.append(np.array(train[i][j]))\n",
    "for i in range(0, len(val)):\n",
    "    for j in range(0,len(val[i])):\n",
    "        X.append(np.array(val[i][j]))\n",
    "for i in range(0, len(test)):\n",
    "    for j in range(0, len(test[i])):\n",
    "        X.append(np.array(test[i][j]))"
   ]
  },
  {
   "cell_type": "code",
   "execution_count": 5,
   "metadata": {},
   "outputs": [],
   "source": [
    "from hmmlearn import hmm"
   ]
  },
  {
   "cell_type": "code",
   "execution_count": 6,
   "metadata": {},
   "outputs": [],
   "source": [
    "remodel = hmm.GaussianHMM(n_components=4, n_iter = 50, covariance_type = 'diag', verbose = True, init_params=\"cm\", params=\"cmts\")\n",
    "remodel.startprob_ = np.array([1, 0.0, 0.0, 0.0])\n",
    "remodel.transmat_ = np.array([\n",
    "                 [0.33, 0.34, 0.33, 0],\n",
    "                 [0.0, 0.33, 0.34, 0.33],\n",
    "                 [0.0, 0.0, 0.5, 0.5],\n",
    "                 [0.0, 0.0, 0.0, 1.0]]\n",
    "                            )"
   ]
  },
  {
   "cell_type": "code",
   "execution_count": 7,
   "metadata": {},
   "outputs": [
    {
     "data": {
      "text/plain": [
       "array([1., 0., 0., 0.])"
      ]
     },
     "execution_count": 7,
     "metadata": {},
     "output_type": "execute_result"
    }
   ],
   "source": [
    "remodel.startprob_"
   ]
  },
  {
   "cell_type": "code",
   "execution_count": 8,
   "metadata": {},
   "outputs": [
    {
     "data": {
      "text/plain": [
       "array([[0.33, 0.34, 0.33, 0.  ],\n",
       "       [0.  , 0.33, 0.34, 0.33],\n",
       "       [0.  , 0.  , 0.5 , 0.5 ],\n",
       "       [0.  , 0.  , 0.  , 1.  ]])"
      ]
     },
     "execution_count": 8,
     "metadata": {},
     "output_type": "execute_result"
    }
   ],
   "source": [
    "remodel.transmat_"
   ]
  },
  {
   "cell_type": "code",
   "execution_count": 9,
   "metadata": {},
   "outputs": [
    {
     "name": "stderr",
     "output_type": "stream",
     "text": [
      "         1 -273718.73606499             +nan\n",
      "         2 -264893.64643455   +8825.08963044\n",
      "         3 -264603.10500674    +290.54142782\n",
      "         4 -264553.48144860     +49.62355814\n",
      "         5 -264548.85978980      +4.62165880\n",
      "         6 -264474.39117711     +74.46861268\n",
      "         7 -264467.78838722      +6.60278990\n",
      "         8 -264467.78837054      +0.00001667\n"
     ]
    },
    {
     "data": {
      "text/plain": [
       "GaussianHMM(algorithm='viterbi', covariance_type='diag', covars_prior=0.01,\n",
       "            covars_weight=1, implementation='log', init_params='cm',\n",
       "            means_prior=0, means_weight=0, min_covar=0.001, n_components=4,\n",
       "            n_iter=50, params='cmts', random_state=None, startprob_prior=1.0,\n",
       "            tol=0.01, transmat_prior=1.0, verbose=True)"
      ]
     },
     "execution_count": 9,
     "metadata": {},
     "output_type": "execute_result"
    }
   ],
   "source": [
    "remodel.fit(X, length)"
   ]
  },
  {
   "cell_type": "code",
   "execution_count": 10,
   "metadata": {},
   "outputs": [
    {
     "data": {
      "text/plain": [
       "array([[0.81951393, 0.14146206, 0.03902402, 0.        ],\n",
       "       [0.        , 0.71013683, 0.26087553, 0.02898764],\n",
       "       [0.        , 0.        , 0.90839669, 0.09160331],\n",
       "       [0.        , 0.        , 0.        , 1.        ]])"
      ]
     },
     "execution_count": 10,
     "metadata": {},
     "output_type": "execute_result"
    }
   ],
   "source": [
    "remodel.transmat_"
   ]
  },
  {
   "cell_type": "code",
   "execution_count": 11,
   "metadata": {},
   "outputs": [
    {
     "data": {
      "text/plain": [
       "array([1., 0., 0., 0.])"
      ]
     },
     "execution_count": 11,
     "metadata": {},
     "output_type": "execute_result"
    }
   ],
   "source": [
    "remodel.startprob_"
   ]
  },
  {
   "cell_type": "code",
   "execution_count": 12,
   "metadata": {},
   "outputs": [],
   "source": [
    "def encode_convs(profix):\n",
    "    sent_label = []\n",
    "    with open(profix + '_sentence_transformer.pkl', 'rb') as f:\n",
    "        data = pickle.load(f)\n",
    "    for i in range(0, len(data)):\n",
    "        labels = remodel.decode(np.array(data[i]))[1]\n",
    "        sent_label.append(labels)\n",
    "    \n",
    "    with open(profix + '_sent_trans_cons_label.pkl', 'wb') as f:\n",
    "        pickle.dump(sent_label, f)\n",
    "    return sent_label"
   ]
  },
  {
   "cell_type": "code",
   "execution_count": 21,
   "metadata": {},
   "outputs": [],
   "source": [
    "l = encode_convs('train')"
   ]
  },
  {
   "cell_type": "code",
   "execution_count": 22,
   "metadata": {},
   "outputs": [],
   "source": [
    "l = encode_convs('val')"
   ]
  },
  {
   "cell_type": "code",
   "execution_count": 23,
   "metadata": {},
   "outputs": [],
   "source": [
    "l = encode_convs('test')"
   ]
  },
  {
   "cell_type": "code",
   "execution_count": null,
   "metadata": {},
   "outputs": [],
   "source": []
  }
 ],
 "metadata": {
  "kernelspec": {
   "display_name": "dhvenv",
   "language": "python",
   "name": "dhvenv"
  },
  "language_info": {
   "codemirror_mode": {
    "name": "ipython",
    "version": 3
   },
   "file_extension": ".py",
   "mimetype": "text/x-python",
   "name": "python",
   "nbconvert_exporter": "python",
   "pygments_lexer": "ipython3",
   "version": "3.7.6"
  }
 },
 "nbformat": 4,
 "nbformat_minor": 4
}
