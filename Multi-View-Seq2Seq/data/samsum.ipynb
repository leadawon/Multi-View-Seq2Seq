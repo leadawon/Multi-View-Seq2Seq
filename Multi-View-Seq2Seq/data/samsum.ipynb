{
 "cells": [
  {
   "cell_type": "code",
   "execution_count": 2,
   "metadata": {},
   "outputs": [
    {
     "name": "stderr",
     "output_type": "stream",
     "text": [
      "Found cached dataset samsum (/home/leadawon5/.cache/huggingface/datasets/samsum/samsum/0.0.0/f1d7c6b7353e6de335d444e424dc002ef70d1277109031327bc9cc6af5d3d46e)\n"
     ]
    },
    {
     "data": {
      "application/vnd.jupyter.widget-view+json": {
       "model_id": "85ab13add32c4c8c854b131a4e441220",
       "version_major": 2,
       "version_minor": 0
      },
      "text/plain": [
       "  0%|          | 0/3 [00:00<?, ?it/s]"
      ]
     },
     "metadata": {},
     "output_type": "display_data"
    }
   ],
   "source": [
    "from datasets import load_dataset\n",
    "\n",
    "dataset = load_dataset(\"samsum\")"
   ]
  },
  {
   "cell_type": "code",
   "execution_count": 3,
   "metadata": {},
   "outputs": [
    {
     "name": "stdout",
     "output_type": "stream",
     "text": [
      "{'id': '13818513', 'dialogue': \"Amanda: I baked  cookies. Do you want some?\\r\\nJerry: Sure!\\r\\nAmanda: I'll bring you tomorrow :-)\", 'summary': 'Amanda baked cookies and will bring Jerry some tomorrow.'}\n"
     ]
    }
   ],
   "source": [
    "for i in dataset.keys():\n",
    "    print(dataset[i][0])\n",
    "    break\n",
    "custom_dataset = {\"train\":[],\"test\":[],\"validation\":[]}\n",
    "for i,v in enumerate(dataset['train']):\n",
    "    custom_dataset[\"train\"].append({'dialogue':v['dialogue'],'summary':v['summary']})\n",
    "for i,v in enumerate(dataset['validation']):\n",
    "    custom_dataset[\"validation\"].append({'dialogue':v['dialogue'],'summary':v['summary']})\n",
    "for i,v in enumerate(dataset['test']):\n",
    "    custom_dataset[\"test\"].append({'dialogue':v['dialogue'],'summary':v['summary']})\n",
    "train_data=custom_dataset['train'][:20]\n",
    "test_data = custom_dataset['test'][:10]\n",
    "val_data = custom_dataset['validation'][:10]    \n",
    "import json\n",
    "with open('train.json','w', encoding = 'utf8') as json_file:\n",
    "    json.dump(train_data,json_file)\n",
    "with open('test.json','w', encoding = 'utf8') as json_file:\n",
    "    json.dump(test_data,json_file)\n",
    "with open('val.json','w' ,encoding = 'utf8') as json_file:\n",
    "    json.dump(val_data,json_file)"
   ]
  }
 ],
 "metadata": {
  "kernelspec": {
   "display_name": "dhvenv",
   "language": "python",
   "name": "dhvenv"
  },
  "language_info": {
   "codemirror_mode": {
    "name": "ipython",
    "version": 3
   },
   "file_extension": ".py",
   "mimetype": "text/x-python",
   "name": "python",
   "nbconvert_exporter": "python",
   "pygments_lexer": "ipython3",
   "version": "3.7.6"
  },
  "orig_nbformat": 4
 },
 "nbformat": 4,
 "nbformat_minor": 2
}
