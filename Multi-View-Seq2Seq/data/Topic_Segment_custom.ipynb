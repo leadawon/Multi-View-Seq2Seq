{
 "cells": [
  {
   "cell_type": "code",
   "execution_count": 40,
   "metadata": {},
   "outputs": [],
   "source": [
    "import uts"
   ]
  },
  {
   "cell_type": "code",
   "execution_count": 41,
   "metadata": {},
   "outputs": [],
   "source": [
    "import json\n",
    "with open('train_custom.json', encoding = 'utf8') as json_file:\n",
    "    train = json.load(json_file)\n"
   ]
  },
  {
   "cell_type": "code",
   "execution_count": 42,
   "metadata": {},
   "outputs": [],
   "source": [
    "import gensim"
   ]
  },
  {
   "cell_type": "code",
   "execution_count": 43,
   "metadata": {},
   "outputs": [],
   "source": [
    "def remove_name(s):\n",
    "    temp = \"\"\n",
    "    flag = 0\n",
    "    for i in range(0, len(s)):\n",
    "        if s[i] == ':':\n",
    "            flag = 1\n",
    "            continue\n",
    "        if flag == 1:\n",
    "            temp += s[i]\n",
    "    return temp"
   ]
  },
  {
   "cell_type": "code",
   "execution_count": 44,
   "metadata": {},
   "outputs": [],
   "source": [
    "sent = []\n",
    "for data in train:\n",
    "    \n",
    "    if len(data['dialogue'].split('\\r\\n')) > 1:\n",
    "        sentences = data['dialogue'].split('\\r\\n')\n",
    "    else:\n",
    "        sentences = data['dialogue'].split('\\n')\n",
    "    sent.append(sentences)"
   ]
  },
  {
   "cell_type": "code",
   "execution_count": 45,
   "metadata": {},
   "outputs": [
    {
     "data": {
      "text/plain": [
       "['Say , Jim , how about going for a few beers after dinner ?',\n",
       " 'You know that is tempting but is really not good for our fitness .']"
      ]
     },
     "execution_count": 45,
     "metadata": {},
     "output_type": "execute_result"
    }
   ],
   "source": [
    "sent[0]"
   ]
  },
  {
   "cell_type": "code",
   "execution_count": 46,
   "metadata": {},
   "outputs": [],
   "source": [
    "import string\n",
    "from nltk.tokenize import word_tokenize\n",
    "table = str.maketrans('', '', string.punctuation)\n",
    "sentences = []\n",
    "for i in range(0, len(sent)):\n",
    "    for s in sent[i]:\n",
    "        temp_sent = remove_name(s)\n",
    "        tokens = word_tokenize(temp_sent)\n",
    "        tokens = [w.lower() for w in tokens]\n",
    "        stripped = [w.translate(table) for w in tokens]\n",
    "        sentences.append(stripped)"
   ]
  },
  {
   "cell_type": "code",
   "execution_count": 47,
   "metadata": {},
   "outputs": [],
   "source": [
    "from C99 import C99"
   ]
  },
  {
   "cell_type": "code",
   "execution_count": 48,
   "metadata": {},
   "outputs": [],
   "source": [
    "import pickle\n",
    "with open('train_custom_custom_sentence_transformer.pkl', 'rb') as f:\n",
    "    train = pickle.load(f)\n",
    "with open('val_custom_custom_sentence_transformer.pkl', 'rb') as f:\n",
    "    val = pickle.load(f)\n",
    "with open('test_custom_custom_sentence_transformer.pkl', 'rb') as f:\n",
    "    test = pickle.load(f)"
   ]
  },
  {
   "cell_type": "code",
   "execution_count": 49,
   "metadata": {},
   "outputs": [],
   "source": [
    "def encode_convs(profix):\n",
    "    model = C99(window = 4, std_coeff = 1)\n",
    "    sent_label = []\n",
    "    with open(profix+\"_custom_sentence_transformer.pkl\", 'rb') as f:\n",
    "        data = pickle.load(f)\n",
    "    for i in range(0, len(data)):\n",
    "        boundary = model.segment(data[i])\n",
    "        temp_labels = []\n",
    "        l = 0\n",
    "        for j in range(0, len(boundary)):\n",
    "            if boundary[j] == 1:\n",
    "                l += 1\n",
    "            temp_labels.append(l)\n",
    "        sent_label.append(temp_labels)\n",
    "    print(sent_label)\n",
    "    with open(profix + '_sent_custom_topic_label.pkl', 'wb') as f:\n",
    "        pickle.dump(sent_label, f)\n",
    "    \n",
    "    return sent_label"
   ]
  },
  {
   "cell_type": "code",
   "execution_count": 50,
   "metadata": {},
   "outputs": [
    {
     "name": "stdout",
     "output_type": "stream",
     "text": [
      "[[1, 1], [1, 2, 2], [1, 2, 2, 2], [1, 2, 2, 2, 2], [1, 2, 2, 2, 2, 3], [1, 2, 2, 2, 2, 3, 3], [1, 2, 2, 2, 2, 3, 3, 3], [1, 2, 2, 2, 2, 3, 3, 3, 4], [1, 1], [1, 1, 2], [1, 1, 2, 2], [1, 1, 2, 2, 3], [1, 1], [1, 1, 2], [1, 1, 2, 2], [1, 1], [1, 1, 2], [1, 1], [1, 1, 2], [1, 1, 2, 2]]\n"
     ]
    }
   ],
   "source": [
    "l = encode_convs('train_custom')"
   ]
  },
  {
   "cell_type": "code",
   "execution_count": 51,
   "metadata": {},
   "outputs": [
    {
     "name": "stdout",
     "output_type": "stream",
     "text": [
      "[[1, 1], [1, 2, 2], [1, 2, 2, 3], [1, 2, 2, 2, 3], [1, 2, 2, 3, 3, 4], [1, 2, 2, 3, 3, 3, 4], [1, 2, 2, 3, 3, 4, 4, 5], [1, 2, 2, 2, 3, 3, 4, 4, 5], [1, 2, 2, 3, 3, 3, 4, 4, 5, 5], [1, 2, 2, 3, 3, 4, 4, 4, 5, 5, 6]]\n"
     ]
    }
   ],
   "source": [
    "l = encode_convs('test_custom')"
   ]
  },
  {
   "cell_type": "code",
   "execution_count": 52,
   "metadata": {},
   "outputs": [
    {
     "name": "stdout",
     "output_type": "stream",
     "text": [
      "[[1, 1], [1, 1, 2], [1, 1, 2, 2], [1, 1, 1, 1, 1], [1, 1, 2, 2, 3, 3], [1, 1], [1, 1, 2], [1, 1, 2, 2], [1, 1, 1, 2, 2], [1, 1, 1, 2, 2, 2]]\n"
     ]
    }
   ],
   "source": [
    "l = encode_convs('val_custom')"
   ]
  }
 ],
 "metadata": {
  "kernelspec": {
   "display_name": "dhvenv",
   "language": "python",
   "name": "dhvenv"
  },
  "language_info": {
   "codemirror_mode": {
    "name": "ipython",
    "version": 3
   },
   "file_extension": ".py",
   "mimetype": "text/x-python",
   "name": "python",
   "nbconvert_exporter": "python",
   "pygments_lexer": "ipython3",
   "version": "3.7.6"
  }
 },
 "nbformat": 4,
 "nbformat_minor": 4
}
