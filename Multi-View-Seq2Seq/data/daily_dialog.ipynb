{
 "cells": [
  {
   "cell_type": "code",
   "execution_count": 1,
   "metadata": {},
   "outputs": [
    {
     "name": "stderr",
     "output_type": "stream",
     "text": [
      "Found cached dataset daily_dialog (/home/leadawon5/.cache/huggingface/datasets/daily_dialog/default/1.0.0/1d0a58c7f2a4dab5ed9d01dbde8e55e0058e589ab81fce5c2df929ea810eabcd)\n"
     ]
    },
    {
     "data": {
      "application/vnd.jupyter.widget-view+json": {
       "model_id": "e1f44bfd2a4b422c8f31cd127b97590b",
       "version_major": 2,
       "version_minor": 0
      },
      "text/plain": [
       "  0%|          | 0/3 [00:00<?, ?it/s]"
      ]
     },
     "metadata": {},
     "output_type": "display_data"
    }
   ],
   "source": [
    "from datasets import load_dataset\n",
    "\n",
    "dataset = load_dataset(\"daily_dialog\")"
   ]
  },
  {
   "cell_type": "code",
   "execution_count": null,
   "metadata": {},
   "outputs": [],
   "source": []
  },
  {
   "cell_type": "code",
   "execution_count": 2,
   "metadata": {},
   "outputs": [
    {
     "name": "stdout",
     "output_type": "stream",
     "text": [
      "{'dialog': ['Say , Jim , how about going for a few beers after dinner ? ', ' You know that is tempting but is really not good for our fitness . ', ' What do you mean ? It will help us to relax . ', \" Do you really think so ? I don't . It will just make us fat and act silly . Remember last time ? \", \" I guess you are right.But what shall we do ? I don't feel like sitting at home . \", ' I suggest a walk over to the gym where we can play singsong and meet some of our friends . ', \" That's a good idea . I hear Mary and Sally often go there to play pingpong.Perhaps we can make a foursome with them . \", ' Sounds great to me ! If they are willing , we could ask them to go dancing with us.That is excellent exercise and fun , too . ', \" Good.Let ' s go now . \", ' All right . '], 'act': [3, 4, 2, 2, 2, 3, 4, 1, 3, 4], 'emotion': [0, 0, 0, 0, 0, 0, 4, 4, 4, 4]}\n"
     ]
    }
   ],
   "source": [
    "for i in dataset.keys():\n",
    "    print(dataset[i][0])\n",
    "    break\n",
    "custom_dataset = {\"train\":[],\"test\":[],\"validation\":[]}\n",
    "for i,v in enumerate(dataset['train']):\n",
    "    for turns in range(2,len(v['dialog'])):\n",
    "        input_string = \"\"\n",
    "        for input_turns in v['dialog'][:turns]:\n",
    "            input_string += input_turns.strip() + \"\\r\\n\"\n",
    "        custom_dataset[\"train\"].append({'dialogue':input_string,'summary':v['dialog'][turns].strip()})\n",
    "for i,v in enumerate(dataset['validation']):\n",
    "    for turns in range(2,len(v['dialog'])):\n",
    "        input_string = \"\"\n",
    "        for input_turns in v['dialog'][:turns]:\n",
    "            input_string += input_turns.strip() + \"\\r\\n\"\n",
    "        custom_dataset[\"validation\"].append({'dialogue':input_string,'summary':v['dialog'][turns].strip()})\n",
    "for i,v in enumerate(dataset['test']):\n",
    "    for turns in range(2,len(v['dialog'])):\n",
    "        input_string = \"\"\n",
    "        for input_turns in v['dialog'][:turns]:\n",
    "            input_string += input_turns.strip() + \"\\r\\n\"\n",
    "        custom_dataset[\"test\"].append({'dialogue':input_string,'summary':v['dialog'][turns].strip()})\n",
    "train_data=custom_dataset['train'][:20]\n",
    "test_data = custom_dataset['test'][:10]\n",
    "val_data = custom_dataset['validation'][:10]    \n",
    "import json\n",
    "with open('train_custom.json','w', encoding = 'utf8') as json_file:\n",
    "    json.dump(train_data,json_file)\n",
    "with open('test_custom.json','w', encoding = 'utf8') as json_file:\n",
    "    json.dump(test_data,json_file)\n",
    "with open('val_custom.json','w' ,encoding = 'utf8') as json_file:\n",
    "    json.dump(val_data,json_file)"
   ]
  }
 ],
 "metadata": {
  "kernelspec": {
   "display_name": "dhvenv",
   "language": "python",
   "name": "dhvenv"
  },
  "language_info": {
   "codemirror_mode": {
    "name": "ipython",
    "version": 3
   },
   "file_extension": ".py",
   "mimetype": "text/x-python",
   "name": "python",
   "nbconvert_exporter": "python",
   "pygments_lexer": "ipython3",
   "version": "3.7.6"
  },
  "orig_nbformat": 4
 },
 "nbformat": 4,
 "nbformat_minor": 2
}
