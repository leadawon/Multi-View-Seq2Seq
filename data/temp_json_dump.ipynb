{
 "cells": [
  {
   "cell_type": "code",
   "execution_count": 4,
   "id": "062cd94e",
   "metadata": {},
   "outputs": [],
   "source": [
    "# data = []\n",
    "# for i in range(300):\n",
    "#     data.append({\"dialogue\":\"hello\\how are you?\\nfine thanks\\nhold up you eat breakfast?\\nnot yet i have too many homeworks\\n which homework?\\nformal languages.\"})"
   ]
  },
  {
   "cell_type": "code",
   "execution_count": 4,
   "id": "f53996b1",
   "metadata": {},
   "outputs": [
    {
     "name": "stdout",
     "output_type": "stream",
     "text": [
      "Downloading and preparing dataset samsum/samsum to /home/irteam/.cache/huggingface/datasets/samsum/samsum/0.0.0/f1d7c6b7353e6de335d444e424dc002ef70d1277109031327bc9cc6af5d3d46e...\n"
     ]
    },
    {
     "data": {
      "application/vnd.jupyter.widget-view+json": {
       "model_id": "c272108d9969457ea976c2b2081e0055",
       "version_major": 2,
       "version_minor": 0
      },
      "text/plain": [
       "Downloading data:   0%|          | 0.00/2.94M [00:00<?, ?B/s]"
      ]
     },
     "metadata": {},
     "output_type": "display_data"
    },
    {
     "data": {
      "application/vnd.jupyter.widget-view+json": {
       "model_id": "",
       "version_major": 2,
       "version_minor": 0
      },
      "text/plain": [
       "Generating train split:   0%|          | 0/14732 [00:00<?, ? examples/s]"
      ]
     },
     "metadata": {},
     "output_type": "display_data"
    },
    {
     "data": {
      "application/vnd.jupyter.widget-view+json": {
       "model_id": "",
       "version_major": 2,
       "version_minor": 0
      },
      "text/plain": [
       "Generating test split:   0%|          | 0/819 [00:00<?, ? examples/s]"
      ]
     },
     "metadata": {},
     "output_type": "display_data"
    },
    {
     "data": {
      "application/vnd.jupyter.widget-view+json": {
       "model_id": "",
       "version_major": 2,
       "version_minor": 0
      },
      "text/plain": [
       "Generating validation split:   0%|          | 0/818 [00:00<?, ? examples/s]"
      ]
     },
     "metadata": {},
     "output_type": "display_data"
    },
    {
     "name": "stdout",
     "output_type": "stream",
     "text": [
      "Dataset samsum downloaded and prepared to /home/irteam/.cache/huggingface/datasets/samsum/samsum/0.0.0/f1d7c6b7353e6de335d444e424dc002ef70d1277109031327bc9cc6af5d3d46e. Subsequent calls will reuse this data.\n"
     ]
    },
    {
     "data": {
      "application/vnd.jupyter.widget-view+json": {
       "model_id": "5c505cf8cf484f52b747ee764c64d6aa",
       "version_major": 2,
       "version_minor": 0
      },
      "text/plain": [
       "  0%|          | 0/3 [00:00<?, ?it/s]"
      ]
     },
     "metadata": {},
     "output_type": "display_data"
    }
   ],
   "source": [
    "from datasets import load_dataset\n",
    "\n",
    "dataset = load_dataset(\"samsum\")"
   ]
  },
  {
   "cell_type": "code",
   "execution_count": 25,
   "id": "7cd44ec7",
   "metadata": {},
   "outputs": [
    {
     "name": "stdout",
     "output_type": "stream",
     "text": [
      "{'id': '13818513', 'dialogue': \"Amanda: I baked  cookies. Do you want some?\\r\\nJerry: Sure!\\r\\nAmanda: I'll bring you tomorrow :-)\", 'summary': 'Amanda baked cookies and will bring Jerry some tomorrow.'}\n"
     ]
    }
   ],
   "source": [
    "for i in dataset.keys():\n",
    "    print(dataset[i][0])\n",
    "    break\n",
    "    "
   ]
  },
  {
   "cell_type": "code",
   "execution_count": 27,
   "id": "4a40ef23",
   "metadata": {},
   "outputs": [],
   "source": [
    "custom_dataset = {\"train\":[],\"test\":[],\"validation\":[]}\n",
    "for i,v in enumerate(dataset['train']):\n",
    "    custom_dataset[\"train\"].append({'dialogue':v['dialogue'],'summary':v['summary']})"
   ]
  },
  {
   "cell_type": "code",
   "execution_count": 28,
   "id": "b9c9aa3c",
   "metadata": {},
   "outputs": [],
   "source": [
    "for i,v in enumerate(dataset['validation']):\n",
    "    custom_dataset[\"validation\"].append({'dialogue':v['dialogue'],'summary':v['summary']})\n",
    "for i,v in enumerate(dataset['test']):\n",
    "    custom_dataset[\"test\"].append({'dialogue':v['dialogue'],'summary':v['summary']})"
   ]
  },
  {
   "cell_type": "code",
   "execution_count": 10,
   "id": "47d8e96a",
   "metadata": {},
   "outputs": [
    {
     "name": "stdout",
     "output_type": "stream",
     "text": [
      "\"Amanda: I baked cookies. Do you want some? \\nJerry: Sure! \\nAmanda: I'll bring you tomorrow :-)\"\n"
     ]
    }
   ],
   "source": [
    "# import re\n",
    "\n",
    "# string = \"Amanda: I baked cookies. Do you want some? Jerry: Sure! Amanda: I'll bring you tomorrow :-)\"\n",
    "\n",
    "# # 정규식 패턴을 사용하여 대화 분리\n",
    "# pattern = r'([a-zA-Z]+:)'\n",
    "# dialogs = re.sub(pattern, r'\\n\\1', string)\n",
    "\n",
    "# # 대화 시작 부분에 \\n 추가\n",
    "# if not dialogs.startswith('\\n'):\n",
    "#     dialogs = '\\n' + dialogs\n",
    "\n",
    "    \n",
    "# if dialogs.startswith('\\n'):\n",
    "#     dialogs = dialogs[1:]\n",
    "    \n",
    "# print(repr(dialogs))\n",
    "\n"
   ]
  },
  {
   "cell_type": "code",
   "execution_count": 29,
   "id": "96c82f47",
   "metadata": {},
   "outputs": [],
   "source": [
    "train_data=custom_dataset['train'][:100]\n",
    "test_data = custom_dataset['test'][:10]\n",
    "val_data = custom_dataset['validation'][:10]"
   ]
  },
  {
   "cell_type": "code",
   "execution_count": 30,
   "id": "b5635048",
   "metadata": {},
   "outputs": [],
   "source": [
    "import json\n",
    "with open('train.json','w', encoding = 'utf8') as json_file:\n",
    "    json.dump(train_data,json_file)\n",
    "with open('test.json','w', encoding = 'utf8') as json_file:\n",
    "    json.dump(test_data,json_file)\n",
    "with open('val.json','w' ,encoding = 'utf8') as json_file:\n",
    "    json.dump(val_data,json_file)"
   ]
  },
  {
   "cell_type": "code",
   "execution_count": 31,
   "id": "a29973e0",
   "metadata": {},
   "outputs": [
    {
     "name": "stdout",
     "output_type": "stream",
     "text": [
      "/home/irteam/cha970214-dcloud-dir/dawon/Multi-View-Seq2Seq-master/data\r\n"
     ]
    }
   ],
   "source": [
    "!pwd"
   ]
  },
  {
   "cell_type": "code",
   "execution_count": null,
   "id": "e94e62ac",
   "metadata": {},
   "outputs": [],
   "source": []
  }
 ],
 "metadata": {
  "kernelspec": {
   "display_name": "dawonvenv",
   "language": "python",
   "name": "myvenv"
  },
  "language_info": {
   "codemirror_mode": {
    "name": "ipython",
    "version": 3
   },
   "file_extension": ".py",
   "mimetype": "text/x-python",
   "name": "python",
   "nbconvert_exporter": "python",
   "pygments_lexer": "ipython3",
   "version": "3.7.11"
  }
 },
 "nbformat": 4,
 "nbformat_minor": 5
}
