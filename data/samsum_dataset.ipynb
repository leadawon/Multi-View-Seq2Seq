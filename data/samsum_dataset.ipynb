{
 "cells": [
  {
   "cell_type": "code",
   "execution_count": 2,
   "metadata": {},
   "outputs": [
    {
     "name": "stderr",
     "output_type": "stream",
     "text": [
      "Found cached dataset samsum (/home/leadawon5/.cache/huggingface/datasets/samsum/samsum/0.0.0/f1d7c6b7353e6de335d444e424dc002ef70d1277109031327bc9cc6af5d3d46e)\n"
     ]
    },
    {
     "data": {
      "application/vnd.jupyter.widget-view+json": {
       "model_id": "e226d0eace054b3d8a284e8420c43a39",
       "version_major": 2,
       "version_minor": 0
      },
      "text/plain": [
       "  0%|          | 0/3 [00:00<?, ?it/s]"
      ]
     },
     "metadata": {},
     "output_type": "display_data"
    }
   ],
   "source": [
    "from datasets import load_dataset\n",
    "\n",
    "dataset = load_dataset(\"samsum\")"
   ]
  },
  {
   "cell_type": "code",
   "execution_count": 3,
   "metadata": {},
   "outputs": [
    {
     "name": "stdout",
     "output_type": "stream",
     "text": [
      "{'id': '13818513', 'dialogue': \"Amanda: I baked  cookies. Do you want some?\\r\\nJerry: Sure!\\r\\nAmanda: I'll bring you tomorrow :-)\", 'summary': 'Amanda baked cookies and will bring Jerry some tomorrow.'}\n"
     ]
    }
   ],
   "source": [
    "for i in dataset.keys():\n",
    "    print(dataset[i][0])\n",
    "    break"
   ]
  },
  {
   "cell_type": "code",
   "execution_count": 4,
   "metadata": {},
   "outputs": [],
   "source": [
    "custom_dataset = {\"train\":[],\"test\":[],\"validation\":[]}\n",
    "for i,v in enumerate(dataset['train']):\n",
    "    custom_dataset[\"train\"].append({'dialogue':v['dialogue'],'summary':v['summary']})"
   ]
  },
  {
   "cell_type": "code",
   "execution_count": 5,
   "metadata": {},
   "outputs": [],
   "source": [
    "for i,v in enumerate(dataset['validation']):\n",
    "    custom_dataset[\"validation\"].append({'dialogue':v['dialogue'],'summary':v['summary']})\n",
    "for i,v in enumerate(dataset['test']):\n",
    "    custom_dataset[\"test\"].append({'dialogue':v['dialogue'],'summary':v['summary']})"
   ]
  },
  {
   "cell_type": "code",
   "execution_count": 6,
   "metadata": {},
   "outputs": [],
   "source": [
    "train_data=custom_dataset['train'][:20]\n",
    "test_data = custom_dataset['test'][:10]\n",
    "val_data = custom_dataset['validation'][:10]"
   ]
  },
  {
   "cell_type": "code",
   "execution_count": 7,
   "metadata": {},
   "outputs": [],
   "source": [
    "import json\n",
    "with open('train.json','w', encoding = 'utf8') as json_file:\n",
    "    json.dump(train_data,json_file)\n",
    "with open('test.json','w', encoding = 'utf8') as json_file:\n",
    "    json.dump(test_data,json_file)\n",
    "with open('val.json','w' ,encoding = 'utf8') as json_file:\n",
    "    json.dump(val_data,json_file)"
   ]
  },
  {
   "cell_type": "code",
   "execution_count": 8,
   "metadata": {},
   "outputs": [
    {
     "name": "stdout",
     "output_type": "stream",
     "text": [
      "{'dialogue': \"Amanda: I baked  cookies. Do you want some?\\r\\nJerry: Sure!\\r\\nAmanda: I'll bring you tomorrow :-)\", 'summary': 'Amanda baked cookies and will bring Jerry some tomorrow.'}\n",
      "{'dialogue': 'Olivia: Who are you voting for in this election? \\r\\nOliver: Liberals as always.\\r\\nOlivia: Me too!!\\r\\nOliver: Great', 'summary': 'Olivia and Olivier are voting for liberals in this election. '}\n",
      "{'dialogue': \"Tim: Hi, what's up?\\r\\nKim: Bad mood tbh, I was going to do lots of stuff but ended up procrastinating\\r\\nTim: What did you plan on doing?\\r\\nKim: Oh you know, uni stuff and unfucking my room\\r\\nKim: Maybe tomorrow I'll move my ass and do everything\\r\\nKim: We were going to defrost a fridge so instead of shopping I'll eat some defrosted veggies\\r\\nTim: For doing stuff I recommend Pomodoro technique where u use breaks for doing chores\\r\\nTim: It really helps\\r\\nKim: thanks, maybe I'll do that\\r\\nTim: I also like using post-its in kaban style\", 'summary': 'Kim may try the pomodoro technique recommended by Tim to get more stuff done.'}\n",
      "{'dialogue': \"Edward: Rachel, I think I'm in ove with Bella..\\r\\nrachel: Dont say anything else..\\r\\nEdward: What do you mean??\\r\\nrachel: Open your fu**ing door.. I'm outside\", 'summary': 'Edward thinks he is in love with Bella. Rachel wants Edward to open his door. Rachel is outside. '}\n",
      "{'dialogue': \"Sam: hey  overheard rick say something\\r\\nSam: i don't know what to do :-/\\r\\nNaomi: what did he say??\\r\\nSam: he was talking on the phone with someone\\r\\nSam: i don't know who\\r\\nSam: and he was telling them that he wasn't very happy here\\r\\nNaomi: damn!!!\\r\\nSam: he was saying he doesn't like being my roommate\\r\\nNaomi: wow, how do you feel about it?\\r\\nSam: i thought i was a good rommate\\r\\nSam: and that we have a nice place\\r\\nNaomi: that's true man!!!\\r\\nNaomi: i used to love living with you before i moved in with me boyfriend\\r\\nNaomi: i don't know why he's saying that\\r\\nSam: what should i do???\\r\\nNaomi: honestly if it's bothering you that much you should talk to him\\r\\nNaomi: see what's going on\\r\\nSam: i don't want to get in any kind of confrontation though\\r\\nSam: maybe i'll just let it go\\r\\nSam: and see how it goes in the future\\r\\nNaomi: it's your choice sam\\r\\nNaomi: if i were you i would just talk to him and clear the air\", 'summary': 'Sam is confused, because he overheard Rick complaining about him as a roommate. Naomi thinks Sam should talk to Rick. Sam is not sure what to do.'}\n",
      "{'dialogue': \"Neville: Hi there, does anyone remember what date I got married on?\\r\\nDon: Are you serious?\\r\\nNeville: Dead serious. We're on vacation, and Tina's mad at me about something. I have a strange suspicion that this might have something to do with our wedding anniversary, but I have nowhere to check.\\r\\nWyatt: Hang on, I'll ask my wife.\\r\\nDon: Haha, someone's in a lot of trouble :D\\r\\nWyatt: September 17. I hope you remember the year ;)\", 'summary': \"Wyatt reminds Neville his wedding anniversary is on the 17th of September. Neville's wife is upset and it might be because Neville forgot about their anniversary.\"}\n",
      "{'dialogue': \"John: Ave. Was there any homework for tomorrow?\\r\\nCassandra: hello :D Of course, as always :D\\r\\nJohn: What exactly?\\r\\nCassandra: I'm not sure so I'll check it for you in 20minutes. \\r\\nJohn: Cool, thanks. Sorry I couldn't be there, but I was busy as fuck...my stupid boss as always was trying to piss me off\\r\\nCassandra: No problem, what did he do this time?\\r\\nJohn: Nothing special, just the same as always, treating us like children, commanding to do this and that...\\r\\nCassandra: sorry to hear that. but why don't you just go to your chief and tell him everything?\\r\\nJohn: I would, but I don't have any support from others, they are like goddamn pupets and pretend that everything's fine...I'm not gonna fix everything for everyone\\r\\nCassandra: I understand...Nevertheless, just try to ignore him. I know it might sound ridiculous as fuck, but sometimes there's nothing more you can do.\\r\\nJohn: yeah I know...maybe some beer this week?\\r\\nCassandra: Sure, but I got some time after classes only...this week is gonna be busy\\r\\nJohn: no problem, I can drive you home and we can go to some bar or whatever.\\r\\nCassandra: cool. ok, I got this homework. it's page 15 ex. 2 and 3, I also asked the others to study another chapter, especially the vocabulary from the very first pages. Just read it.\\r\\nJohn: gosh...I don't know if I'm smart enough to do it :'D\\r\\nCassandra: you are, don't worry :P Just circle all the words you don't know and we'll continue on Monday.\\r\\nJohn: ok...then I'll try my best :D\\r\\nCassandra: sure, if you will have any questions just either text or call me and I'll help you.\\r\\nJohn: I hope I won't have to waste your time xD\\r\\nCassandra: you're not wasting my time, I'm your teacher, I'm here to help. This is what I get money for, also :P\\r\\nJohn: just kidding :D ok, so i guess we'll stay in touch then\\r\\nCassandra: sure, have a nice evening :D\\r\\nJohn: you too, se ya\\r\\nCassandra: Byeeeee\", 'summary': \"John didn't show up for class due to some work issues with his boss. Cassandra, his teacher told him which exercises to do, and which chapter to study. They are going to meet up for a beer sometime this week after class. \"}\n",
      "{'dialogue': \"Sarah: I found a song on youtube and I think you'll like it\\r\\nJames: What song?\\r\\nSarah: <file_other>\\r\\nJames: Oh. I know it! \\r\\nJames: I heard it before in some compilation\\r\\nSarah: I can't stop playing it over and over\\r\\nJames: That's exactly how I know lyrics to all of the songs on my playlist :D\\r\\nSarah: Haha. No lyrics here though. Instrumental ;D\\r\\nJames: Instrumental songs are different kind of music. \\r\\nJames: But you have to remember that the activity you do when you listen to this song\\r\\nJames: Is the actvity your brain will connect to the song\\r\\nJames: And everytime you play this song at home\\r\\nJames: You'll be thinking of your work\\r\\nSarah: Yeah, I know that. That's why we sometimes say - I used to like that song, but now it just reminds me of bad memories\\r\\nJames: Yup. Everytime you change your partner, you have to get rid of your favorite music :D\\r\\nSarah: Hahaha. True, true.\", 'summary': 'Sarah sends James an instrumental song he might like. James knows the song. The brain connects the songs to the context they were played in and brings to mind the associated memories.'}\n",
      "{'dialogue': 'Noah: When and where are we meeting? :)\\r\\nMadison: I thought you were busy...?\\r\\nNoah: Yeah, I WAS. I quit my job. \\r\\nMadison: No way! :o :o :o Why? I thought you liked it...?\\r\\nNoah: Well, I used to, until my boss turned into a complete cock... Long story.', 'summary': 'Noah wants to meet, he quit his job, because his boss was a dick.'}\n",
      "{'dialogue': \"Matt: Do you want to go for date?\\r\\nAgnes: Wow! You caught me out with this question Matt.\\r\\nMatt: Why?\\r\\nAgnes: I simply didn't expect this from you.\\r\\nMatt: Well, expect the unexpected.\\r\\nAgnes: Can I think about it?\\r\\nMatt: What is there to think about?\\r\\nAgnes: Well, I don't really know you.\\r\\nMatt: This is the perfect time to get to know eachother\\r\\nAgnes: Well that's true.\\r\\nMatt: So let's go to the Georgian restaurant in Kazimierz.\\r\\nAgnes: Now your convincing me.\\r\\nMatt: Cool, saturday at 6pm?\\r\\nAgnes: That's fine.\\r\\nMatt: I can pick you up on the way to the restaurant.\\r\\nAgnes: That's really kind of you.\\r\\nMatt: No problem.\\r\\nAgnes: See you on saturday.\\r\\nMatt: Yes, looking forward to it.\\r\\nAgnes: Me too.\", 'summary': \"Matt invites Agnes for a date to get to know each other better. They'll go to the Georgian restaurant in Kazimierz on Saturday at 6 pm, and he'll pick her up on the way to the place.\"}\n",
      "{'dialogue': 'Lucas: Hey! How was your day?\\r\\nDemi: Hey there! \\r\\nDemi: It was pretty fine, actually, thank you!\\r\\nDemi: I just got promoted! :D\\r\\nLucas: Whoa! Great news!\\r\\nLucas: Congratulations!\\r\\nLucas: Such a success has to be celebrated.\\r\\nDemi: I agree! :D\\r\\nDemi: Tonight at Death & Co.?\\r\\nLucas: Sure!\\r\\nLucas: See you there at 10pm?\\r\\nDemi: Yeah! See you there! :D', 'summary': 'Demi got promoted. She will celebrate that with Lucas at Death & Co at 10 pm.'}\n",
      "{'dialogue': 'Mark: I just shipped the goods\\r\\nMark: Tomorrow I’ll send you the tracking number\\r\\nGeorge: Thanks!', 'summary': 'Mark just shipped the goods and he will send George the tracking number tomorrow.'}\n",
      "{'dialogue': \"Anita: I'm at the station in Bologna\\nJenny: No problems so far?\\nAnita: no, everything's going smoothly\\nTomy: good!\", 'summary': 'Anita is at Bologna station.'}\n",
      "{'dialogue': \"Leon: did you find the job yet?\\r\\nArthur: no bro, still unemployed :D\\r\\nLeon: hahaha, LIVING LIFE\\r\\nArthur: i love it, waking up at noon, watching sports - what else could a man want?\\r\\nLeon: a paycheck? ;)\\r\\nArthur: don't be mean... \\r\\nLeon: but seriously, my mate has an offer as a junior project manager at his company, are you interested?\\r\\nArthur: sure thing, do you have any details?\\r\\nLeon: <file_photo>\\r\\nArthur: that actually looks nice, should I reach out directly to your friend or just apply to this email address from the screenshot?\\r\\nLeon: it's his email, you can send your resume directly and I will mention to him who you are :)\", 'summary': 'Arthur is still unemployed. Leon sends him a job offer for junior project manager position. Arthur is interested.'}\n",
      "{'dialogue': \"Macca: i'm so exited today\\nAdrien: why?\\nMacca: I've never done ice climbing before\\nMark: Are you ready?\\nMacca: think so\\nTobias: where are you doing this?\\nMacca: not far from Reykjavik\\nMacca: Has anybody seriously injured themselves doing this?\\nMark: not seriously\\nAdrien: I didn't know you're in Iceland!\\nMacca: hahaha, doesn't sound so good\\nMark: no need to be afraid\\nMacca: gosh, it was such a rush\\nMark: did you enjoy it?\\nMacca: every second\\nMacca: it was not very cold\\nMacca: the landscapes were magnificent\\nMark: I'm glad to read that\\nMacca: Challenge of the day done!\", 'summary': 'Macca has done ice climbing for the first time today, close to Reykjavik. He enjoyed it very much.'}\n",
      "{'dialogue': \"Isabella: fuck my life, I'm so not able to get up to work today\\r\\nIsabella: I need to call in sick :(\\r\\nOscar: haha, well you certainly had a good time at the Christmas party yesterday XD\\r\\nIsabella: shut up, you're a traitor\\r\\nIsabella: I told you to guard my glass\\r\\nIsabella: and my sobriety. You clearly failed!\\r\\nOscar: but you were having such fun, I didn't have a heart to stop it\\r\\nOscar: <file_photo>\\r\\nOscar: <file_photo>\\r\\nIsabella: you're so dead! Is that Jimmy from marketing department?\\r\\nOscar: yes indeed, it's him :D\\r\\nIsabella: I am a fallen woman, I cannot get back to the office now\\r\\nIsabella: <file_gif>\\r\\nOscar: oh come on, almost everybody was drunk\\r\\nOscar: so they won't remember a thing :D\\r\\nIsabella: I assure you, they tend to remember such things…\\r\\nOscar: <file_gif>\", 'summary': 'Isabella feels bad after the Christmas party. She got drunk. She is ashamed to go back to work. '}\n",
      "{'dialogue': \"Tina: I'd only like to remind you that you owe me 50 bucks\\r\\nLucy: Of course, I know.\\r\\nLucy: I've already transferred the money but it's Sunday today so you'll have it in your bank account tomorrow\\r\\nTina: That's good news cuz I've been having a lot of expenses lately\", 'summary': \"Lucy owes Tina 50 dollars. She made a transfer but it is Sunday so the payment will be on Tina's account on Monday. Tina needs the money because she has been having expanses recently.\"}\n",
      "{'dialogue': 'Betty: Please remind me next time that too much wine isn\\'t good for me and me surrounding\\r\\nBetty: Hangover is one thing\\r\\nBetty: But I feel like never touching wine again\\r\\nAmber: Hahaha. You were so drunk with wine last night, you couldn\\'t walk straight even 5 steps\\r\\nAmber: You took off your weeding ring and shouted \"My precious\"\\r\\nBetty: Uhh. I have no blackouts so I know exactly what to feel embarassed about....', 'summary': 'Betty feels remorse she got drunk last night and went out of control.'}\n",
      "{'dialogue': \"Mary: Hi Mike!\\r\\nMike: Hello :)\\r\\nMary: do u have any plans for tonight?\\r\\nMike: I'm going to visit my grandma.\\r\\nMike: You can go with me.\\r\\nMike: She likes u very much.\\r\\nMary: Good idea, i'll buy some chocolate for her.\", 'summary': \"Mike and Mary are going to visit Mike's grandma tonight. Mary will buy her some chocolate.\"}\n",
      "{'dialogue': \"Laura: ok , I'm done for today-)\\r\\nLaura: let me know once u're free and we come back home together\\r\\nKim: hmm.. 7?\\r\\nLaura: ok\\r\\nKim: cool, wait for me at work, I'll call once I get here\", 'summary': 'Laura will pick up Kim from work around 7, and they will come back home together.'}\n"
     ]
    }
   ],
   "source": [
    "for i in train_data:\n",
    "    print(i)"
   ]
  },
  {
   "cell_type": "code",
   "execution_count": 9,
   "metadata": {},
   "outputs": [],
   "source": [
    "from transformers import AutoTokenizer\n",
    "tokenizerr = AutoTokenizer.from_pretrained('roberta-base')\n",
    "tokenizerg = AutoTokenizer.from_pretrained('gpt2')"
   ]
  },
  {
   "cell_type": "code",
   "execution_count": null,
   "metadata": {},
   "outputs": [],
   "source": []
  }
 ],
 "metadata": {
  "kernelspec": {
   "display_name": "tilvenv",
   "language": "python",
   "name": "tilvenv"
  },
  "language_info": {
   "codemirror_mode": {
    "name": "ipython",
    "version": 3
   },
   "file_extension": ".py",
   "mimetype": "text/x-python",
   "name": "python",
   "nbconvert_exporter": "python",
   "pygments_lexer": "ipython3",
   "version": "3.7.6"
  }
 },
 "nbformat": 4,
 "nbformat_minor": 4
}
