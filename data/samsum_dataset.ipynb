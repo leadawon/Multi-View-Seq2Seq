{
 "cells": [
  {
   "cell_type": "code",
   "execution_count": 1,
   "metadata": {},
   "outputs": [
    {
     "name": "stderr",
     "output_type": "stream",
     "text": [
      "/home/leadawon5/dawon/myvenv/lib/python3.7/site-packages/tqdm/auto.py:21: TqdmWarning: IProgress not found. Please update jupyter and ipywidgets. See https://ipywidgets.readthedocs.io/en/stable/user_install.html\n",
      "  from .autonotebook import tqdm as notebook_tqdm\n",
      "Found cached dataset samsum (/home/leadawon5/.cache/huggingface/datasets/samsum/samsum/0.0.0/f1d7c6b7353e6de335d444e424dc002ef70d1277109031327bc9cc6af5d3d46e)\n",
      "100%|██████████| 3/3 [00:00<00:00, 16.00it/s]\n"
     ]
    }
   ],
   "source": [
    "from datasets import load_dataset\n",
    "\n",
    "dataset = load_dataset(\"samsum\")"
   ]
  },
  {
   "cell_type": "code",
   "execution_count": 2,
   "metadata": {},
   "outputs": [
    {
     "name": "stdout",
     "output_type": "stream",
     "text": [
      "{'id': '13818513', 'dialogue': \"Amanda: I baked  cookies. Do you want some?\\r\\nJerry: Sure!\\r\\nAmanda: I'll bring you tomorrow :-)\", 'summary': 'Amanda baked cookies and will bring Jerry some tomorrow.'}\n"
     ]
    }
   ],
   "source": [
    "for i in dataset.keys():\n",
    "    print(dataset[i][0])\n",
    "    break\n",
    "    "
   ]
  },
  {
   "cell_type": "code",
   "execution_count": 3,
   "metadata": {},
   "outputs": [],
   "source": [
    "custom_dataset = {\"train\":[],\"test\":[],\"validation\":[]}\n",
    "for i,v in enumerate(dataset['train']):\n",
    "    custom_dataset[\"train\"].append({'dialogue':v['dialogue'],'summary':v['summary']})"
   ]
  },
  {
   "cell_type": "code",
   "execution_count": 4,
   "metadata": {},
   "outputs": [],
   "source": [
    "for i,v in enumerate(dataset['validation']):\n",
    "    custom_dataset[\"validation\"].append({'dialogue':v['dialogue'],'summary':v['summary']})\n",
    "for i,v in enumerate(dataset['test']):\n",
    "    custom_dataset[\"test\"].append({'dialogue':v['dialogue'],'summary':v['summary']})"
   ]
  },
  {
   "cell_type": "code",
   "execution_count": 5,
   "metadata": {},
   "outputs": [],
   "source": [
    "train_data=custom_dataset['train'][:20]\n",
    "test_data = custom_dataset['test'][:10]\n",
    "val_data = custom_dataset['validation'][:10]"
   ]
  },
  {
   "cell_type": "code",
   "execution_count": 6,
   "metadata": {},
   "outputs": [],
   "source": [
    "import json\n",
    "with open('train.json','w', encoding = 'utf8') as json_file:\n",
    "    json.dump(train_data,json_file)\n",
    "with open('test.json','w', encoding = 'utf8') as json_file:\n",
    "    json.dump(test_data,json_file)\n",
    "with open('val.json','w' ,encoding = 'utf8') as json_file:\n",
    "    json.dump(val_data,json_file)"
   ]
  },
  {
   "cell_type": "code",
   "execution_count": 7,
   "metadata": {},
   "outputs": [
    {
     "name": "stdout",
     "output_type": "stream",
     "text": [
      "{'dialogue': \"Amanda: I baked  cookies. Do you want some?\\r\\nJerry: Sure!\\r\\nAmanda: I'll bring you tomorrow :-)\", 'summary': 'Amanda baked cookies and will bring Jerry some tomorrow.'}\n",
      "{'dialogue': 'Olivia: Who are you voting for in this election? \\r\\nOliver: Liberals as always.\\r\\nOlivia: Me too!!\\r\\nOliver: Great', 'summary': 'Olivia and Olivier are voting for liberals in this election. '}\n",
      "{'dialogue': \"Tim: Hi, what's up?\\r\\nKim: Bad mood tbh, I was going to do lots of stuff but ended up procrastinating\\r\\nTim: What did you plan on doing?\\r\\nKim: Oh you know, uni stuff and unfucking my room\\r\\nKim: Maybe tomorrow I'll move my ass and do everything\\r\\nKim: We were going to defrost a fridge so instead of shopping I'll eat some defrosted veggies\\r\\nTim: For doing stuff I recommend Pomodoro technique where u use breaks for doing chores\\r\\nTim: It really helps\\r\\nKim: thanks, maybe I'll do that\\r\\nTim: I also like using post-its in kaban style\", 'summary': 'Kim may try the pomodoro technique recommended by Tim to get more stuff done.'}\n",
      "{'dialogue': \"Edward: Rachel, I think I'm in ove with Bella..\\r\\nrachel: Dont say anything else..\\r\\nEdward: What do you mean??\\r\\nrachel: Open your fu**ing door.. I'm outside\", 'summary': 'Edward thinks he is in love with Bella. Rachel wants Edward to open his door. Rachel is outside. '}\n",
      "{'dialogue': \"Sam: hey  overheard rick say something\\r\\nSam: i don't know what to do :-/\\r\\nNaomi: what did he say??\\r\\nSam: he was talking on the phone with someone\\r\\nSam: i don't know who\\r\\nSam: and he was telling them that he wasn't very happy here\\r\\nNaomi: damn!!!\\r\\nSam: he was saying he doesn't like being my roommate\\r\\nNaomi: wow, how do you feel about it?\\r\\nSam: i thought i was a good rommate\\r\\nSam: and that we have a nice place\\r\\nNaomi: that's true man!!!\\r\\nNaomi: i used to love living with you before i moved in with me boyfriend\\r\\nNaomi: i don't know why he's saying that\\r\\nSam: what should i do???\\r\\nNaomi: honestly if it's bothering you that much you should talk to him\\r\\nNaomi: see what's going on\\r\\nSam: i don't want to get in any kind of confrontation though\\r\\nSam: maybe i'll just let it go\\r\\nSam: and see how it goes in the future\\r\\nNaomi: it's your choice sam\\r\\nNaomi: if i were you i would just talk to him and clear the air\", 'summary': 'Sam is confused, because he overheard Rick complaining about him as a roommate. Naomi thinks Sam should talk to Rick. Sam is not sure what to do.'}\n",
      "{'dialogue': \"Neville: Hi there, does anyone remember what date I got married on?\\r\\nDon: Are you serious?\\r\\nNeville: Dead serious. We're on vacation, and Tina's mad at me about something. I have a strange suspicion that this might have something to do with our wedding anniversary, but I have nowhere to check.\\r\\nWyatt: Hang on, I'll ask my wife.\\r\\nDon: Haha, someone's in a lot of trouble :D\\r\\nWyatt: September 17. I hope you remember the year ;)\", 'summary': \"Wyatt reminds Neville his wedding anniversary is on the 17th of September. Neville's wife is upset and it might be because Neville forgot about their anniversary.\"}\n",
      "{'dialogue': \"John: Ave. Was there any homework for tomorrow?\\r\\nCassandra: hello :D Of course, as always :D\\r\\nJohn: What exactly?\\r\\nCassandra: I'm not sure so I'll check it for you in 20minutes. \\r\\nJohn: Cool, thanks. Sorry I couldn't be there, but I was busy as fuck...my stupid boss as always was trying to piss me off\\r\\nCassandra: No problem, what did he do this time?\\r\\nJohn: Nothing special, just the same as always, treating us like children, commanding to do this and that...\\r\\nCassandra: sorry to hear that. but why don't you just go to your chief and tell him everything?\\r\\nJohn: I would, but I don't have any support from others, they are like goddamn pupets and pretend that everything's fine...I'm not gonna fix everything for everyone\\r\\nCassandra: I understand...Nevertheless, just try to ignore him. I know it might sound ridiculous as fuck, but sometimes there's nothing more you can do.\\r\\nJohn: yeah I know...maybe some beer this week?\\r\\nCassandra: Sure, but I got some time after classes only...this week is gonna be busy\\r\\nJohn: no problem, I can drive you home and we can go to some bar or whatever.\\r\\nCassandra: cool. ok, I got this homework. it's page 15 ex. 2 and 3, I also asked the others to study another chapter, especially the vocabulary from the very first pages. Just read it.\\r\\nJohn: gosh...I don't know if I'm smart enough to do it :'D\\r\\nCassandra: you are, don't worry :P Just circle all the words you don't know and we'll continue on Monday.\\r\\nJohn: ok...then I'll try my best :D\\r\\nCassandra: sure, if you will have any questions just either text or call me and I'll help you.\\r\\nJohn: I hope I won't have to waste your time xD\\r\\nCassandra: you're not wasting my time, I'm your teacher, I'm here to help. This is what I get money for, also :P\\r\\nJohn: just kidding :D ok, so i guess we'll stay in touch then\\r\\nCassandra: sure, have a nice evening :D\\r\\nJohn: you too, se ya\\r\\nCassandra: Byeeeee\", 'summary': \"John didn't show up for class due to some work issues with his boss. Cassandra, his teacher told him which exercises to do, and which chapter to study. They are going to meet up for a beer sometime this week after class. \"}\n",
      "{'dialogue': \"Sarah: I found a song on youtube and I think you'll like it\\r\\nJames: What song?\\r\\nSarah: <file_other>\\r\\nJames: Oh. I know it! \\r\\nJames: I heard it before in some compilation\\r\\nSarah: I can't stop playing it over and over\\r\\nJames: That's exactly how I know lyrics to all of the songs on my playlist :D\\r\\nSarah: Haha. No lyrics here though. Instrumental ;D\\r\\nJames: Instrumental songs are different kind of music. \\r\\nJames: But you have to remember that the activity you do when you listen to this song\\r\\nJames: Is the actvity your brain will connect to the song\\r\\nJames: And everytime you play this song at home\\r\\nJames: You'll be thinking of your work\\r\\nSarah: Yeah, I know that. That's why we sometimes say - I used to like that song, but now it just reminds me of bad memories\\r\\nJames: Yup. Everytime you change your partner, you have to get rid of your favorite music :D\\r\\nSarah: Hahaha. True, true.\", 'summary': 'Sarah sends James an instrumental song he might like. James knows the song. The brain connects the songs to the context they were played in and brings to mind the associated memories.'}\n",
      "{'dialogue': 'Noah: When and where are we meeting? :)\\r\\nMadison: I thought you were busy...?\\r\\nNoah: Yeah, I WAS. I quit my job. \\r\\nMadison: No way! :o :o :o Why? I thought you liked it...?\\r\\nNoah: Well, I used to, until my boss turned into a complete cock... Long story.', 'summary': 'Noah wants to meet, he quit his job, because his boss was a dick.'}\n",
      "{'dialogue': \"Matt: Do you want to go for date?\\r\\nAgnes: Wow! You caught me out with this question Matt.\\r\\nMatt: Why?\\r\\nAgnes: I simply didn't expect this from you.\\r\\nMatt: Well, expect the unexpected.\\r\\nAgnes: Can I think about it?\\r\\nMatt: What is there to think about?\\r\\nAgnes: Well, I don't really know you.\\r\\nMatt: This is the perfect time to get to know eachother\\r\\nAgnes: Well that's true.\\r\\nMatt: So let's go to the Georgian restaurant in Kazimierz.\\r\\nAgnes: Now your convincing me.\\r\\nMatt: Cool, saturday at 6pm?\\r\\nAgnes: That's fine.\\r\\nMatt: I can pick you up on the way to the restaurant.\\r\\nAgnes: That's really kind of you.\\r\\nMatt: No problem.\\r\\nAgnes: See you on saturday.\\r\\nMatt: Yes, looking forward to it.\\r\\nAgnes: Me too.\", 'summary': \"Matt invites Agnes for a date to get to know each other better. They'll go to the Georgian restaurant in Kazimierz on Saturday at 6 pm, and he'll pick her up on the way to the place.\"}\n",
      "{'dialogue': 'Lucas: Hey! How was your day?\\r\\nDemi: Hey there! \\r\\nDemi: It was pretty fine, actually, thank you!\\r\\nDemi: I just got promoted! :D\\r\\nLucas: Whoa! Great news!\\r\\nLucas: Congratulations!\\r\\nLucas: Such a success has to be celebrated.\\r\\nDemi: I agree! :D\\r\\nDemi: Tonight at Death & Co.?\\r\\nLucas: Sure!\\r\\nLucas: See you there at 10pm?\\r\\nDemi: Yeah! See you there! :D', 'summary': 'Demi got promoted. She will celebrate that with Lucas at Death & Co at 10 pm.'}\n",
      "{'dialogue': 'Mark: I just shipped the goods\\r\\nMark: Tomorrow I’ll send you the tracking number\\r\\nGeorge: Thanks!', 'summary': 'Mark just shipped the goods and he will send George the tracking number tomorrow.'}\n",
      "{'dialogue': \"Anita: I'm at the station in Bologna\\nJenny: No problems so far?\\nAnita: no, everything's going smoothly\\nTomy: good!\", 'summary': 'Anita is at Bologna station.'}\n",
      "{'dialogue': \"Leon: did you find the job yet?\\r\\nArthur: no bro, still unemployed :D\\r\\nLeon: hahaha, LIVING LIFE\\r\\nArthur: i love it, waking up at noon, watching sports - what else could a man want?\\r\\nLeon: a paycheck? ;)\\r\\nArthur: don't be mean... \\r\\nLeon: but seriously, my mate has an offer as a junior project manager at his company, are you interested?\\r\\nArthur: sure thing, do you have any details?\\r\\nLeon: <file_photo>\\r\\nArthur: that actually looks nice, should I reach out directly to your friend or just apply to this email address from the screenshot?\\r\\nLeon: it's his email, you can send your resume directly and I will mention to him who you are :)\", 'summary': 'Arthur is still unemployed. Leon sends him a job offer for junior project manager position. Arthur is interested.'}\n",
      "{'dialogue': \"Macca: i'm so exited today\\nAdrien: why?\\nMacca: I've never done ice climbing before\\nMark: Are you ready?\\nMacca: think so\\nTobias: where are you doing this?\\nMacca: not far from Reykjavik\\nMacca: Has anybody seriously injured themselves doing this?\\nMark: not seriously\\nAdrien: I didn't know you're in Iceland!\\nMacca: hahaha, doesn't sound so good\\nMark: no need to be afraid\\nMacca: gosh, it was such a rush\\nMark: did you enjoy it?\\nMacca: every second\\nMacca: it was not very cold\\nMacca: the landscapes were magnificent\\nMark: I'm glad to read that\\nMacca: Challenge of the day done!\", 'summary': 'Macca has done ice climbing for the first time today, close to Reykjavik. He enjoyed it very much.'}\n",
      "{'dialogue': \"Isabella: fuck my life, I'm so not able to get up to work today\\r\\nIsabella: I need to call in sick :(\\r\\nOscar: haha, well you certainly had a good time at the Christmas party yesterday XD\\r\\nIsabella: shut up, you're a traitor\\r\\nIsabella: I told you to guard my glass\\r\\nIsabella: and my sobriety. You clearly failed!\\r\\nOscar: but you were having such fun, I didn't have a heart to stop it\\r\\nOscar: <file_photo>\\r\\nOscar: <file_photo>\\r\\nIsabella: you're so dead! Is that Jimmy from marketing department?\\r\\nOscar: yes indeed, it's him :D\\r\\nIsabella: I am a fallen woman, I cannot get back to the office now\\r\\nIsabella: <file_gif>\\r\\nOscar: oh come on, almost everybody was drunk\\r\\nOscar: so they won't remember a thing :D\\r\\nIsabella: I assure you, they tend to remember such things…\\r\\nOscar: <file_gif>\", 'summary': 'Isabella feels bad after the Christmas party. She got drunk. She is ashamed to go back to work. '}\n",
      "{'dialogue': \"Tina: I'd only like to remind you that you owe me 50 bucks\\r\\nLucy: Of course, I know.\\r\\nLucy: I've already transferred the money but it's Sunday today so you'll have it in your bank account tomorrow\\r\\nTina: That's good news cuz I've been having a lot of expenses lately\", 'summary': \"Lucy owes Tina 50 dollars. She made a transfer but it is Sunday so the payment will be on Tina's account on Monday. Tina needs the money because she has been having expanses recently.\"}\n",
      "{'dialogue': 'Betty: Please remind me next time that too much wine isn\\'t good for me and me surrounding\\r\\nBetty: Hangover is one thing\\r\\nBetty: But I feel like never touching wine again\\r\\nAmber: Hahaha. You were so drunk with wine last night, you couldn\\'t walk straight even 5 steps\\r\\nAmber: You took off your weeding ring and shouted \"My precious\"\\r\\nBetty: Uhh. I have no blackouts so I know exactly what to feel embarassed about....', 'summary': 'Betty feels remorse she got drunk last night and went out of control.'}\n",
      "{'dialogue': \"Mary: Hi Mike!\\r\\nMike: Hello :)\\r\\nMary: do u have any plans for tonight?\\r\\nMike: I'm going to visit my grandma.\\r\\nMike: You can go with me.\\r\\nMike: She likes u very much.\\r\\nMary: Good idea, i'll buy some chocolate for her.\", 'summary': \"Mike and Mary are going to visit Mike's grandma tonight. Mary will buy her some chocolate.\"}\n",
      "{'dialogue': \"Laura: ok , I'm done for today-)\\r\\nLaura: let me know once u're free and we come back home together\\r\\nKim: hmm.. 7?\\r\\nLaura: ok\\r\\nKim: cool, wait for me at work, I'll call once I get here\", 'summary': 'Laura will pick up Kim from work around 7, and they will come back home together.'}\n"
     ]
    }
   ],
   "source": [
    "for i in train_data:\n",
    "    print(i)"
   ]
  },
  {
   "cell_type": "code",
   "execution_count": 8,
   "metadata": {},
   "outputs": [],
   "source": [
    "from transformers import AutoTokenizer\n",
    "tokenizerr = AutoTokenizer.from_pretrained('roberta-base')\n",
    "tokenizerg = AutoTokenizer.from_pretrained('gpt2')"
   ]
  },
  {
   "cell_type": "code",
   "execution_count": 9,
   "metadata": {},
   "outputs": [
    {
     "name": "stdout",
     "output_type": "stream",
     "text": [
      "| Marla: <file_photo> Marla: look what I found under my bed | Kiki: lol Tamara: is that someone's underwear? | Marla: it certainly isn't mine, my ass is big but it isn't huge Kiki: it looks like male underwear Tamara: not necessarily, maybe some butch had fun in your room while you were gone Marla: ok but how can you leave your underwear after hooking up? wtf is wrong with people Kiki: she or he could be too wasted to notice Tamara: or maybe someone put their pants there to piss you off Marla: that makes no sense Marla: it's so fucking childish Kiki: if it's childish then it must have been your sister's idea Marla: she's 13, she doesn't have underwear that isn't pink Tamara: maybe it belonged to one of your exes? Kiki: she would have recognized it Marla: lol we're doing total CSI investigation on one pair of boxers :D Kiki: <file_gif> Tamara: lol Tamara: I think your sister convinced someone to put their underwear in your room as a dare Marla: sounds legit Kiki: Tamara, you just cracked the case! Tamara: <file_gif> Tamara: always happy to help</s>\n",
      "</s>Lucy owes Tina 50 dollars. She made a transfer but it is Sunday so the payment will be on Tina's account on Monday. Tina needs the money because she has been having expanses recently.\n"
     ]
    }
   ],
   "source": [
    "arr1 =[\n",
    "15483,  1127,  2560,    35, 28696, 21710,  1215, 17827, 15698,  1127,\n",
    "          2560,    35,   356,    99,    38,   303,   223,   127,  3267,  1721,\n",
    "           229,  8907,    35, 29784,  7736,  1742,    35,    16,    14,   951,\n",
    "            18, 20745,   116,  1721,  1127,  2560,    35,    24,  1819,   965,\n",
    "            75,  4318,     6,   127,  8446,    16,   380,    53,    24,   965,\n",
    "            75,  1307,   229,  8907,    35,    24,  1326,   101,  2943, 20745,\n",
    "          7736,  1742,    35,    45,  4784,     6,  2085,   103,    53,   611,\n",
    "            56,  1531,    11,   110,   929,   150,    47,    58,  1613,  1127,\n",
    "          2560,    35, 15983,    53,   141,    64,    47,   989,   110, 20745,\n",
    "            71,  9337,   154,    62,   116,   885, 41407,    16,  1593,    19,\n",
    "            82,   229,  8907,    35,    79,    50,    37,   115,    28,   350,\n",
    "         14260,     7,  3120,  7736,  1742,    35,    50,  2085,   951,   342,\n",
    "            49,  9304,    89,     7, 38768,    47,   160,  1127,  2560,    35,\n",
    "            14,   817,   117,  1472,  1127,  2560,    35,    24,    18,    98,\n",
    "         23523, 40531,   229,  8907,    35,   114,    24,    18, 40531,   172,\n",
    "            24,   531,    33,    57,   110,  2761,    18,  1114,  1127,  2560,\n",
    "            35,    79,    18,   508,     6,    79,   630,    75,    33, 20745,\n",
    "            14,   965,    75,  6907,  7736,  1742,    35,  2085,    24, 14574,\n",
    "             7,    65,     9,   110,  1931,   293,   116,   229,  8907,    35,\n",
    "            79,    74,    33,  4984,    24,  1127,  2560,    35, 29784,    52,\n",
    "           214,   608,   746, 31888,   803,    15,    65,  1763,     9,  2233,\n",
    "           268,  4832,   495,   229,  8907,    35, 28696, 21710,  1215, 47324,\n",
    "         15698,  7736,  1742,    35, 29784,  7736,  1742,    35,    38,   206,\n",
    "           110,  2761,  7013,   951,     7,   342,    49, 20745,    11,   110,\n",
    "           929,    25,    10, 19046,  1127,  2560,    35,  4428, 32369,   229,\n",
    "          8907,    35,  7736,  1742,     6,    47,    95, 16212,     5,   403,\n",
    "           328,  7736,  1742,    35, 28696, 21710,  1215, 47324, 15698,  7736,\n",
    "          1742,    35,   460,  1372,     7,   244,     2\n",
    "]\n",
    "arr2 =[\n",
    "    2, 25370,  4469, 20893, 15720,   654,  1932,     4,   264,   156,\n",
    "            10,  2937,    53,    24,    16,   395,    98,     5,  3207,    40,\n",
    "            28,    15, 15720,    18,  1316,    15,   302,     4, 15720,   782,\n",
    "             5,   418,   142,    79,    34,    57,   519, 44201,   293,   682,\n",
    "             4\n",
    "]\n",
    "#5187 4813\n",
    "#4880 5120\n",
    "\n",
    "\n",
    "\n",
    "decoded_text1 = tokenizerr.decode(arr1)\n",
    "decoded_text2 = tokenizerr.decode(arr2)\n",
    "print(decoded_text1)\n",
    "print(decoded_text2)"
   ]
  },
  {
   "cell_type": "code",
   "execution_count": 10,
   "metadata": {},
   "outputs": [
    {
     "name": "stdout",
     "output_type": "stream",
     "text": [
      "{'dialogue': \"A: Hi Tom, are you busy tomorrow’s afternoon?\\r\\nB: I’m pretty sure I am. What’s up?\\r\\nA: Can you go with me to the animal shelter?.\\r\\nB: What do you want to do?\\r\\nA: I want to get a puppy for my son.\\r\\nB: That will make him so happy.\\r\\nA: Yeah, we’ve discussed it many times. I think he’s ready now.\\r\\nB: That’s good. Raising a dog is a tough issue. Like having a baby ;-) \\r\\nA: I'll get him one of those little dogs.\\r\\nB: One that won't grow up too big;-)\\r\\nA: And eat too much;-))\\r\\nB: Do you know which one he would like?\\r\\nA: Oh, yes, I took him there last Monday. He showed me one that he really liked.\\r\\nB: I bet you had to drag him away.\\r\\nA: He wanted to take it home right away ;-).\\r\\nB: I wonder what he'll name it.\\r\\nA: He said he’d name it after his dead hamster – Lemmy  - he's  a great Motorhead fan :-)))\", 'summary': 'A will go to the animal shelter tomorrow to get a puppy for her son. They already visited the shelter last Monday and the son chose the puppy. '}\n",
      "{'dialogue': 'Emma: I’ve just fallen in love with this advent calendar! Awesome! I wanna one for my kids!\\r\\nRob: I used to get one every year as a child! Loved them! \\r\\nEmma: Yeah, i remember! they were filled with chocolates!\\r\\nLauren: they are different these days! much more sophisticated! Haha!\\r\\nRob: yeah, they can be fabric/ wooden, shop bought/ homemade, filled with various stuff\\r\\nEmma: what do you fit inside?\\r\\nLauren: small toys, Christmas decorations, creative stuff, hair bands & clips, stickers, pencils & rubbers, small puzzles, sweets\\r\\nEmma: WOW! That’s brill! X\\r\\nLauren: i add one more very special thing as well- little notes asking my children to do something nice for someone else\\r\\nRob: i like that! My sister adds notes asking her kids questions about christmas such as What did the 3 wise men bring? etc\\r\\nLauren: i reckon it prepares them for Christmas \\r\\nEmma: and makes it more about traditions and being kind to other people\\r\\nLauren: my children get very excited every time they get one!\\r\\nEmma: i can see why! :)', 'summary': 'Emma and Rob love the advent calendar. Lauren fits inside calendar various items, for instance, small toys and Christmas decorations. Her children are excited whenever they get the calendar.'}\n",
      "{'dialogue': \"Jackie: Madison is pregnant\\r\\nJackie: but she doesn't wanna talk about it\\r\\nIggy: why\\r\\nJackie: I don't know why because she doesn't wanna talk about it\\r\\nIggy: ok\\r\\nJackie: I wanted to prepare you for it because people get super excited and ask lots of questions\\r\\nJackie: and she looked way more anxious than excited\\r\\nIggy: she's probably worrying about it\\r\\nIggy: she's taking every commitment really seriously\\r\\nJackie: it could be money problems or relationship problems\\r\\nIggy: or maybe she wants an abortion\\r\\nJackie: it could be all of the above\\r\\nIggy: but you know what?\\r\\nIggy: once my friend was pregnant and I couldn't bring myself to be happy about it\\r\\nJackie: why?\\r\\nIggy: I felt they were immature and I couldn't picture this couple as parents\\r\\nJackie: I felt similar way on Patricia's wedding\\r\\nIggy: Patricia Stevens?\\r\\nJackie: yes\\r\\nIggy: so we're talking about the same person\\r\\nJackie: what a coincidence\\r\\nJackie: so she's pregnant?\\r\\nIggy: she thought she was\\r\\nJackie: damn...\", 'summary': \"Madison is pregnant but she doesn't want to talk about it. Patricia Stevens got married and she thought she was pregnant. \"}\n",
      "{'dialogue': \"Marla: <file_photo>\\r\\nMarla: look what I found under my bed\\r\\nKiki: lol\\r\\nTamara: is that someone's underwear?\\r\\nMarla: it certainly isn't mine, my ass is big but it isn't huge\\r\\nKiki: it looks like male underwear\\r\\nTamara: not necessarily, maybe some butch had fun in your room while you were gone\\r\\nMarla: ok but how can you leave your underwear after hooking up? wtf is wrong with people\\r\\nKiki: she or he could be too wasted to notice\\r\\nTamara: or maybe someone put their pants there to piss you off\\r\\nMarla: that makes no sense\\r\\nMarla: it's so fucking childish\\r\\nKiki: if it's childish then it must have been your sister's idea\\r\\nMarla: she's 13, she doesn't have underwear that isn't pink\\r\\nTamara: maybe it belonged to one of your exes?\\r\\nKiki: she would have recognized it\\r\\nMarla: lol we're doing total CSI investigation on one pair of boxers :D\\r\\nKiki: <file_gif>\\r\\nTamara: lol\\r\\nTamara: I think your sister convinced someone to put their underwear in your room as a dare\\r\\nMarla: sounds legit\\r\\nKiki: Tamara, you just cracked the case!\\r\\nTamara: <file_gif>\\r\\nTamara: always happy to help\", 'summary': 'Marla found a pair of boxers under her bed.'}\n",
      "{'dialogue': 'Robert: Hey give me the address of this music shop you mentioned before\\r\\nRobert: I have to buy guitar cable\\r\\nFred: <file_other>\\r\\nFred: Catch it on google maps\\r\\nRobert: thx m8\\r\\nFred: ur welcome', 'summary': 'Robert wants Fred to send him the address of the music shop as he needs to buy guitar cable.'}\n",
      "{'dialogue': \"Keith: Meg, pls buy some milk and cereals, I see now we've run out of them\\r\\nMegan: hm, sure, I can do that\\r\\nMegan: but did you check in the drawer next to the fridge?\\r\\nKeith: nope, let me have a look\\r\\nKeith: ok, false alarm, we have cereal and milk :D\\r\\nMegan: <file_gif>\", 'summary': \"Megan needn't buy milk and cereals. They're in the drawer next to the fridge.\"}\n",
      "{'dialogue': \"Samantha: <file_video>\\r\\nEvelyn: LOL\\r\\nHolly: Is SHE making that noise??\\r\\nSamatha: Yes (＾▽＾)\\r\\nHolly: How possible?? :o\\r\\nSamantha: Idk, I'm also surprised!!\\r\\nEvelyn: xD\", 'summary': 'Samantha and Evelyn after watching the video cannot believe she is able to make that noise.'}\n",
      "{'dialogue': \"Theresa: have you been at Tom's new place?\\nLuis: yes, it's nice\\nMarion: He invited us for a dinner\\nAdam: where is it?\\nMarion: a bit outside the city\\nAdam: where exactly?\\nMarion: Fiesole\\nLuis: very nice!\", 'summary': \"Tom's new place is in Fiesole. Luis and Marion has been there. \"}\n",
      "{'dialogue': \"Jane: Hello\\r\\nVegano Resto: Hello, how may I help you today?\\r\\nJane: I would like to make a reservation.\\r\\nJane: For 6 people, tonight around 20:00\\r\\nVegano Resto: Let me just check.\\r\\nVegano Resto: Ah, I'm afraid that there is no room at 20:00.\\r\\nVegano Resto: However, I could offer you a table for six at 18:30 or at 21:00\\r\\nVegano Resto: Would either of those times suit you?\\r\\nJane: Oh dear.\\r\\nJane: Let me just ask my friends.\\r\\nVegano Resto: No problem.\\r\\nJane: 21:00 will be ok.\\r\\nVegano Resto: Perfect. So tonight at 21:00 for six people under your name.\\r\\nJane: great, thank you!\", 'summary': 'Jane made a 9 PM reservation for 6 people tonight at Vegano Resto. '}\n",
      "{'dialogue': 'Nancy: Howdy, how y\\'all doin\\'?\\r\\nTina: Is that a Texan drawl, girl?\\r\\nNancy: Yes ma\\'am! Loving it out here!\\r\\nTina: How\\'s the job going? Kids behaving themselves?\\r\\nNancy: Mostly! They laugh at my accent though!\\r\\nTina: Well, they probably haven\\'t met a Welsh person before!\\r\\nNancy: No shit! They ask me to repeat everything! Best one is \"Water\", course, it\\'s mostly \"Waarderr\" here! \\r\\nTina: LOL. I\\'d love to hear that, you picked up the accent yet?\\r\\nNancy: Nah, 21 years in Cardiff isn\\'t easily removed! \\r\\nTina: We\\'re missing you here, the pub is quiet these days without your laugh!\\r\\nNancy: Miss you too! I\\'m coming home in 6 weeks, though. Last fortnight I\\'m going travelling with 3 other Brits working here, a Geordie girl, a guy from Belfast and Annie, who\\'s from Glasgow.\\r\\nTina: My God, I\\'m so jealous! I bet they had even more trouble being understood out there! See you after your trip!', 'summary': \"Nancy's working in Texas, but the kids laugh at her Welsh accent. She's coming home in 6 weeks. Earlier than that she's going to travel with 3 other Brits.\"}\n"
     ]
    }
   ],
   "source": [
    "for i in val_data:\n",
    "    print(i)"
   ]
  },
  {
   "cell_type": "code",
   "execution_count": 11,
   "metadata": {},
   "outputs": [
    {
     "name": "stdout",
     "output_type": "stream",
     "text": [
      "{'dialogue': \"Hannah: Hey, do you have Betty's number?\\nAmanda: Lemme check\\nHannah: <file_gif>\\nAmanda: Sorry, can't find it.\\nAmanda: Ask Larry\\nAmanda: He called her last time we were at the park together\\nHannah: I don't know him well\\nHannah: <file_gif>\\nAmanda: Don't be shy, he's very nice\\nHannah: If you say so..\\nHannah: I'd rather you texted him\\nAmanda: Just text him 🙂\\nHannah: Urgh.. Alright\\nHannah: Bye\\nAmanda: Bye bye\", 'summary': \"Hannah needs Betty's number but Amanda doesn't have it. She needs to contact Larry.\"}\n",
      "{'dialogue': \"Eric: MACHINE!\\r\\nRob: That's so gr8!\\r\\nEric: I know! And shows how Americans see Russian ;)\\r\\nRob: And it's really funny!\\r\\nEric: I know! I especially like the train part!\\r\\nRob: Hahaha! No one talks to the machine like that!\\r\\nEric: Is this his only stand-up?\\r\\nRob: Idk. I'll check.\\r\\nEric: Sure.\\r\\nRob: Turns out no! There are some of his stand-ups on youtube.\\r\\nEric: Gr8! I'll watch them now!\\r\\nRob: Me too!\\r\\nEric: MACHINE!\\r\\nRob: MACHINE!\\r\\nEric: TTYL?\\r\\nRob: Sure :)\", 'summary': 'Eric and Rob are going to watch a stand-up on youtube.'}\n",
      "{'dialogue': \"Lenny: Babe, can you help me with something?\\r\\nBob: Sure, what's up?\\r\\nLenny: Which one should I pick?\\r\\nBob: Send me photos\\r\\nLenny:  <file_photo>\\r\\nLenny:  <file_photo>\\r\\nLenny:  <file_photo>\\r\\nBob: I like the first ones best\\r\\nLenny: But I already have purple trousers. Does it make sense to have two pairs?\\r\\nBob: I have four black pairs :D :D\\r\\nLenny: yeah, but shouldn't I pick a different color?\\r\\nBob: what matters is what you'll give you the most outfit options\\r\\nLenny: So I guess I'll buy the first or the third pair then\\r\\nBob: Pick the best quality then\\r\\nLenny: ur right, thx\\r\\nBob: no prob :)\", 'summary': \"Lenny can't decide which trousers to buy. Bob advised Lenny on that topic. Lenny goes with Bob's advice to pick the trousers that are of best quality.\"}\n",
      "{'dialogue': \"Will: hey babe, what do you want for dinner tonight?\\r\\nEmma:  gah, don't even worry about it tonight\\r\\nWill: what do you mean? everything ok?\\r\\nEmma: not really, but it's ok, don't worry about cooking though, I'm not hungry\\r\\nWill: Well what time will you be home?\\r\\nEmma: soon, hopefully\\r\\nWill: you sure? Maybe you want me to pick you up?\\r\\nEmma: no no it's alright. I'll be home soon, i'll tell you when I get home. \\r\\nWill: Alright, love you. \\r\\nEmma: love you too. \", 'summary': 'Emma will be home soon and she will let Will know.'}\n",
      "{'dialogue': 'Ollie: Hi , are you in Warsaw\\r\\nJane: yes, just back! Btw are you free for diner the 19th?\\r\\nOllie: nope!\\r\\nJane: and the  18th?\\r\\nOllie: nope, we have this party and you must be there, remember?\\r\\nJane: oh right! i lost my calendar..  thanks for reminding me\\r\\nOllie: we have lunch this week?\\r\\nJane: with pleasure!\\r\\nOllie: friday?\\r\\nJane: ok\\r\\nJane: what do you mean \" we don\\'t have any more whisky!\" lol..\\r\\nOllie: what!!!\\r\\nJane: you just call me and the all thing i heard was that sentence about whisky... what\\'s wrong with you?\\r\\nOllie: oh oh... very strange! i have to be carefull may be there is some spy in my mobile! lol\\r\\nJane: dont\\' worry, we\\'ll check on friday.\\r\\nOllie: don\\'t forget to bring some sun with you\\r\\nJane: I can\\'t wait to be in Morocco..\\r\\nOllie: enjoy and see you friday\\r\\nJane: sorry Ollie, i\\'m very busy, i won\\'t have time for lunch  tomorrow, but may be at 6pm after my courses?this trip to Morocco was so nice, but time consuming!\\r\\nOllie: ok for tea!\\r\\nJane: I\\'m on my way..\\r\\nOllie: tea is ready, did you bring the pastries?\\r\\nJane: I already ate them all... see you in a minute\\r\\nOllie: ok', 'summary': \"Jane is in Warsaw. Ollie and Jane has a party. Jane lost her calendar. They will get a lunch this week on Friday. Ollie accidentally called Jane and talked about whisky. Jane cancels lunch. They'll meet for a tea at 6 pm.\"}\n",
      "{'dialogue': \"Benjamin: Hey guys, what are we doing with the keys today?\\r\\nHilary: I've got them. Whoever wants them can meet me at lunchtime or after\\r\\nElliot: I'm ok. We're meeting for the drinks in the evening anyway and I guess we'll be going back to the apartment together?\\r\\nHilary: Yeah, I guess so\\r\\nDaniel: I'm with Hilary atm and won't let go of her for the rest of the day, so any option you guys choose is good for me\\r\\nBenjamin: Hmm I might actually pass by at lunchtime, take the keys and go take a nap. I'm sooo tired after yesterday\\r\\nHilary: Sounds good. We'll be having lunch with some French people (the ones who work on the history of food in colonial Mexico - I already see you yawning your head off)\\r\\nBenjamin: YAAAAWN 🙊 Where and where are you meeting?\\r\\nHilary: So I'm meeting them at the entrance to the conference hall at 2 pm and then we'll head to this place called La Cantina. Italian cuisine, which is quite funny, but that's what they've chosen\\r\\nBenjamin: Interesting 😱 To be honest, Hilary, I almost feel like changing my mind. Wanting to take this nap might end up costing me to dear\\r\\nHilary: Oh come on 😂\\r\\nBenjamin: All these terrible obstacles on mu way to bed might just prove to much to take\\r\\nHilary: We'll try to avoid talking about their subject of research. Oh wait, no, I'm actually meeting them because I wanted to chat about their research lol\\r\\nElliot: 🙉\\r\\nHilary: Do join us, we're going to have fun. And then you'll take the keys and take this most deserved of naps\\r\\nElliot: Sounds like a plan 😂\\r\\nHilary: 😎\\r\\nElliot: See you at 2 then xx\", 'summary': \"Hilary has the keys to the apartment. Benjamin wants to get them and go take a nap. Hilary is having lunch with some French people at La Cantina. Hilary is meeting them at the entrance to the conference hall at 2 pm. Benjamin and Elliot might join them. They're meeting for the drinks in the evening.\"}\n",
      "{'dialogue': \"Max: Know any good sites to buy clothes from?\\r\\nPayton: Sure :) <file_other> <file_other> <file_other> <file_other> <file_other> <file_other> <file_other>\\r\\nMax: That's a lot of them!\\r\\nPayton: Yeah, but they have different things so I usually buy things from 2 or 3 of them.\\r\\nMax: I'll check them out. Thanks. \\r\\nPayton: No problem :)\\r\\nMax: How about u?\\r\\nPayton: What about me?\\r\\nMax: Do u like shopping?\\r\\nPayton: Yes and no.\\r\\nMax: How come?\\r\\nPayton: I like browsing, trying on, looking in the mirror and seeing how I look, but not always buying.\\r\\nMax: Y not?\\r\\nPayton: Isn't it obvious? ;)\\r\\nMax: Sry ;)\\r\\nPayton: If I bought everything I liked, I'd have nothing left to live on ;)\\r\\nMax: Same here, but probably different category ;)\\r\\nPayton: Lol\\r\\nMax: So what do u usually buy?\\r\\nPayton: Well, I have 2 things I must struggle to resist!\\r\\nMax: Which are?\\r\\nPayton: Clothes, ofc ;)\\r\\nMax: Right. And the second one?\\r\\nPayton: Books. I absolutely love reading!\\r\\nMax: Gr8! What books do u read?\\r\\nPayton: Everything I can get my hands on :)\\r\\nMax: Srsly?\\r\\nPayton: Yup :)\", 'summary': 'Payton provides Max with websites selling clothes. Payton likes browsing and trying on the clothes but not necessarily buying them. Payton usually buys clothes and books as he loves reading.'}\n",
      "{'dialogue': \"Rita: I'm so bloody tired. Falling asleep at work. :-(\\r\\nTina: I know what you mean.\\r\\nTina: I keep on nodding off at my keyboard hoping that the boss doesn't notice..\\r\\nRita: The time just keeps on dragging on and on and on.... \\r\\nRita: I keep on looking at the clock and there's still 4 hours of this drudgery to go.\\r\\nTina: Times like these I really hate my work.\\r\\nRita: I'm really not cut out for this level of boredom.\\r\\nTina: Neither am I.\", 'summary': 'Rita and Tina are bored at work and have still 4 hours left.'}\n",
      "{'dialogue': \"Beatrice: I am in town, shopping. They have nice scarfs in the shop next to the church. Do you want one?\\r\\nLeo: No, thanks\\r\\nBeatrice: But you don't have a scarf.\\r\\nLeo: Because I don't need it.\\r\\nBeatrice: Last winter you had a cold all the time. A scarf could help.\\r\\nLeo: I don't like them.\\r\\nBeatrice: Actually, I don't care. You will get a scarf.\\r\\nLeo: How understanding of you!\\r\\nBeatrice: You were complaining the whole winter that you're going to die. I've had enough.\\r\\nLeo: Eh.\", 'summary': \"Beatrice wants to buy Leo a scarf, but he doesn't like scarves. She cares about his health and will buy him a scarf no matter his opinion.\"}\n",
      "{'dialogue': \"Ivan: hey eric\\r\\nEric: yeah man\\r\\nIvan: so youre coming to the wedding\\r\\nEric: your brother's\\r\\nIvan: yea\\r\\nEric: i dont know mannn\\r\\nIvan: YOU DONT KNOW??\\r\\nEric: i just have a lot to do at home, plus i dont know if my parents would let me\\r\\nIvan: ill take care of your parents\\r\\nEric: youre telling me you have the guts to talk to them XD\\r\\nIvan: thats my problem\\r\\nEric: okay man, if you say so\\r\\nIvan: yea just be there \\r\\nEric: alright\", 'summary': \"Eric doesn't know if his parents let him go to Ivan's brother's wedding. Ivan will talk to them.\"}\n"
     ]
    }
   ],
   "source": [
    "for i in test_data:\n",
    "    print(i)"
   ]
  },
  {
   "cell_type": "code",
   "execution_count": null,
   "metadata": {},
   "outputs": [],
   "source": []
  }
 ],
 "metadata": {
  "kernelspec": {
   "display_name": "myvenv",
   "language": "python",
   "name": "myvenv"
  },
  "language_info": {
   "codemirror_mode": {
    "name": "ipython",
    "version": 3
   },
   "file_extension": ".py",
   "mimetype": "text/x-python",
   "name": "python",
   "nbconvert_exporter": "python",
   "pygments_lexer": "ipython3",
   "version": "3.7.6"
  }
 },
 "nbformat": 4,
 "nbformat_minor": 4
}
