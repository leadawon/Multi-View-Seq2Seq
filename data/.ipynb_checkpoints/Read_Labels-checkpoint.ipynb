{
 "cells": [
  {
   "cell_type": "code",
   "execution_count": 1,
   "metadata": {},
   "outputs": [],
   "source": [
    "import pickle\n",
    "import json\n",
    "\n",
    "import re"
   ]
  },
  {
   "cell_type": "code",
   "execution_count": 17,
   "metadata": {},
   "outputs": [],
   "source": [
    "def concat_conversation(data, labels, sep = ' | ', label_type = '_sent_c99_label'):\n",
    "    conversations = []\n",
    "    summaries = []\n",
    "    for i in range(0, len(data)):\n",
    "        if len(data[i]['dialogue'].split('\\r\\n')) > 1:\n",
    "            sentences = data[i]['dialogue'].replace(\" |\", \" \").split('\\r\\n')\n",
    "            \n",
    "        else:\n",
    "            sentences = data[i]['dialogue'].replace(\" |\", \" \").split('\\n')\n",
    "            \n",
    "        if len(sentences) == 1:\n",
    "            continue\n",
    "            \n",
    "    \n",
    "        summaries.append(data[i]['summary'].strip('\\n').replace('\\r\\nt', ' '))\n",
    "        \n",
    "\n",
    "        if len(labels) > 1:\n",
    "            \n",
    "            if label_type == '_sent_c99_label':\n",
    "                temp = ''\n",
    "                temp += sentences[0]\n",
    "                \n",
    "                \n",
    "                for j in range(1, len(sentences)):\n",
    "                    if labels[i][j] != labels[i][j-1]:\n",
    "\n",
    "                        temp = temp + sep + sentences[j] #topic change ... topic 1 sentences | topic 2 sentences\n",
    "                    else:\n",
    "                        temp = temp + ' ' + sentences[j]\n",
    "                temp += ' | '\n",
    "                conversations.append(temp)\n",
    "            else:\n",
    "                temp = ' | '\n",
    "                temp += sentences[0]\n",
    "                for j in range(1, len(sentences)):\n",
    "                    if labels[i][j] != labels[i][j-1]:\n",
    "\n",
    "                        temp = temp + sep + sentences[j]\n",
    "                    else:\n",
    "                        temp = temp + ' ' + sentences[j]\n",
    "                conversations.append(temp)\n",
    "                \n",
    "        elif labels[0] == 1:\n",
    "            conversations.append(' | ' + ' | '.join(sentences))\n",
    "        elif labels[0] == 0:\n",
    "            conversations.append(' | ' + ' '.join(sentences))\n",
    "        \n",
    "    return conversations, summaries\n",
    "    \n",
    "\n",
    "def transform_format(prefix, label_type = '_sent_c99_label'):\n",
    "    with open(prefix + '.json', encoding = 'utf8') as json_file:\n",
    "        data = json.load(json_file)\n",
    "    if label_type != '_all' and label_type != '_none':\n",
    "        with open(prefix + label_type +'.pkl', 'rb') as f:\n",
    "            labels = pickle.load(f)\n",
    "    elif label_type == '_all':\n",
    "        labels = [1]\n",
    "    elif label_type == '_none':\n",
    "        labels = [0]\n",
    "        \n",
    "    cons, sums = concat_conversation(data, labels, label_type)\n",
    "    \n",
    "    #print(len(cons))\n",
    "    #print(len(sums))\n",
    "    \n",
    "\n",
    "    with open(prefix + label_type +'.source', 'wt', encoding='utf-8') as source_file, open(prefix + label_type + '.target', 'wt', encoding='utf-8') as target_file:\n",
    "        \n",
    "        for i in range(0, len(cons)):\n",
    "            article = cons[i] # one of cons (many topics and utterances)\n",
    "            abstract = sums[i] # one of sums \n",
    "            \n",
    "            #print(article,\"###############\\n\" ,abstract)\n",
    "            #break\n",
    "            source_file.write(article + '\\n') ## source \n",
    "            target_file.write(abstract + '\\n') ## target\n",
    "            \n",
    "    "
   ]
  },
  {
   "cell_type": "code",
   "execution_count": 18,
   "metadata": {
    "scrolled": true
   },
   "outputs": [
    {
     "name": "stdout",
     "output_type": "stream",
     "text": [
      " | Amanda: I baked  cookies. Do you want some? | Jerry: Sure! | Amanda: I'll bring you tomorrow :-) ###############\n",
      " Amanda baked cookies and will bring Jerry some tomorrow.\n",
      " | Amanda: I baked  cookies. Do you want some? Jerry: Sure! Amanda: I'll bring you tomorrow :-) ###############\n",
      " Amanda baked cookies and will bring Jerry some tomorrow.\n",
      "Amanda: I baked  cookies. Do you want some?_sent_trans_cons_labelJerry: Sure!_sent_trans_cons_labelAmanda: I'll bring you tomorrow :-) |  ###############\n",
      " Amanda baked cookies and will bring Jerry some tomorrow.\n",
      "Amanda: I baked  cookies. Do you want some?_sent_c99_labelJerry: Sure! Amanda: I'll bring you tomorrow :-) |  ###############\n",
      " Amanda baked cookies and will bring Jerry some tomorrow.\n",
      " | A: Hi Tom, are you busy tomorrow’s afternoon? | B: I’m pretty sure I am. What’s up? | A: Can you go with me to the animal shelter?. | B: What do you want to do? | A: I want to get a puppy for my son. | B: That will make him so happy. | A: Yeah, we’ve discussed it many times. I think he’s ready now. | B: That’s good. Raising a dog is a tough issue. Like having a baby ;-)  | A: I'll get him one of those little dogs. | B: One that won't grow up too big;-) | A: And eat too much;-)) | B: Do you know which one he would like? | A: Oh, yes, I took him there last Monday. He showed me one that he really liked. | B: I bet you had to drag him away. | A: He wanted to take it home right away ;-). | B: I wonder what he'll name it. | A: He said he’d name it after his dead hamster – Lemmy  - he's  a great Motorhead fan :-))) ###############\n",
      " A will go to the animal shelter tomorrow to get a puppy for her son. They already visited the shelter last Monday and the son chose the puppy. \n",
      " | A: Hi Tom, are you busy tomorrow’s afternoon? B: I’m pretty sure I am. What’s up? A: Can you go with me to the animal shelter?. B: What do you want to do? A: I want to get a puppy for my son. B: That will make him so happy. A: Yeah, we’ve discussed it many times. I think he’s ready now. B: That’s good. Raising a dog is a tough issue. Like having a baby ;-)  A: I'll get him one of those little dogs. B: One that won't grow up too big;-) A: And eat too much;-)) B: Do you know which one he would like? A: Oh, yes, I took him there last Monday. He showed me one that he really liked. B: I bet you had to drag him away. A: He wanted to take it home right away ;-). B: I wonder what he'll name it. A: He said he’d name it after his dead hamster – Lemmy  - he's  a great Motorhead fan :-))) ###############\n",
      " A will go to the animal shelter tomorrow to get a puppy for her son. They already visited the shelter last Monday and the son chose the puppy. \n",
      "A: Hi Tom, are you busy tomorrow’s afternoon? B: I’m pretty sure I am. What’s up? A: Can you go with me to the animal shelter?. B: What do you want to do? A: I want to get a puppy for my son._sent_trans_cons_labelB: That will make him so happy._sent_trans_cons_labelA: Yeah, we’ve discussed it many times. I think he’s ready now. B: That’s good. Raising a dog is a tough issue. Like having a baby ;-)  A: I'll get him one of those little dogs. B: One that won't grow up too big;-) A: And eat too much;-)) B: Do you know which one he would like? A: Oh, yes, I took him there last Monday. He showed me one that he really liked. B: I bet you had to drag him away. A: He wanted to take it home right away ;-)._sent_trans_cons_labelB: I wonder what he'll name it. A: He said he’d name it after his dead hamster – Lemmy  - he's  a great Motorhead fan :-))) |  ###############\n",
      " A will go to the animal shelter tomorrow to get a puppy for her son. They already visited the shelter last Monday and the son chose the puppy. \n",
      "A: Hi Tom, are you busy tomorrow’s afternoon?_sent_c99_labelB: I’m pretty sure I am. What’s up? A: Can you go with me to the animal shelter?. B: What do you want to do?_sent_c99_labelA: I want to get a puppy for my son. B: That will make him so happy. A: Yeah, we’ve discussed it many times. I think he’s ready now._sent_c99_labelB: That’s good. Raising a dog is a tough issue. Like having a baby ;-)  A: I'll get him one of those little dogs._sent_c99_labelB: One that won't grow up too big;-) A: And eat too much;-)) B: Do you know which one he would like?_sent_c99_labelA: Oh, yes, I took him there last Monday. He showed me one that he really liked. B: I bet you had to drag him away. A: He wanted to take it home right away ;-)._sent_c99_labelB: I wonder what he'll name it. A: He said he’d name it after his dead hamster – Lemmy  - he's  a great Motorhead fan :-))) |  ###############\n",
      " A will go to the animal shelter tomorrow to get a puppy for her son. They already visited the shelter last Monday and the son chose the puppy. \n",
      " | Hannah: Hey, do you have Betty's number? | Amanda: Lemme check | Hannah: <file_gif> | Amanda: Sorry, can't find it. | Amanda: Ask Larry | Amanda: He called her last time we were at the park together | Hannah: I don't know him well | Hannah: <file_gif> | Amanda: Don't be shy, he's very nice | Hannah: If you say so.. | Hannah: I'd rather you texted him | Amanda: Just text him 🙂 | Hannah: Urgh.. Alright | Hannah: Bye | Amanda: Bye bye ###############\n",
      " Hannah needs Betty's number but Amanda doesn't have it. She needs to contact Larry.\n",
      " | Hannah: Hey, do you have Betty's number? Amanda: Lemme check Hannah: <file_gif> Amanda: Sorry, can't find it. Amanda: Ask Larry Amanda: He called her last time we were at the park together Hannah: I don't know him well Hannah: <file_gif> Amanda: Don't be shy, he's very nice Hannah: If you say so.. Hannah: I'd rather you texted him Amanda: Just text him 🙂 Hannah: Urgh.. Alright Hannah: Bye Amanda: Bye bye ###############\n",
      " Hannah needs Betty's number but Amanda doesn't have it. She needs to contact Larry.\n",
      "Hannah: Hey, do you have Betty's number? Amanda: Lemme check Hannah: <file_gif> Amanda: Sorry, can't find it. Amanda: Ask Larry Amanda: He called her last time we were at the park together Hannah: I don't know him well Hannah: <file_gif>_sent_trans_cons_labelAmanda: Don't be shy, he's very nice Hannah: If you say so.. Hannah: I'd rather you texted him Amanda: Just text him 🙂 Hannah: Urgh.. Alright Hannah: Bye Amanda: Bye bye |  ###############\n",
      " Hannah needs Betty's number but Amanda doesn't have it. She needs to contact Larry.\n",
      "Hannah: Hey, do you have Betty's number? Amanda: Lemme check Hannah: <file_gif>_sent_c99_labelAmanda: Sorry, can't find it. Amanda: Ask Larry Amanda: He called her last time we were at the park together_sent_c99_labelHannah: I don't know him well Hannah: <file_gif> Amanda: Don't be shy, he's very nice_sent_c99_labelHannah: If you say so.. Hannah: I'd rather you texted him_sent_c99_labelAmanda: Just text him 🙂 Hannah: Urgh.. Alright Hannah: Bye Amanda: Bye bye |  ###############\n",
      " Hannah needs Betty's number but Amanda doesn't have it. She needs to contact Larry.\n"
     ]
    }
   ],
   "source": [
    "for u in ['train', 'val', 'test']:\n",
    "    transform_format(u, '_all')\n",
    "    transform_format(u, '_none')\n",
    "    transform_format(u, '_sent_trans_cons_label') \n",
    "    transform_format(u, '_sent_c99_label') "
   ]
  },
  {
   "cell_type": "code",
   "execution_count": null,
   "metadata": {},
   "outputs": [],
   "source": []
  },
  {
   "cell_type": "code",
   "execution_count": null,
   "metadata": {},
   "outputs": [],
   "source": []
  }
 ],
 "metadata": {
  "kernelspec": {
   "display_name": "dawonvenv",
   "language": "python",
   "name": "myvenv"
  },
  "language_info": {
   "codemirror_mode": {
    "name": "ipython",
    "version": 3
   },
   "file_extension": ".py",
   "mimetype": "text/x-python",
   "name": "python",
   "nbconvert_exporter": "python",
   "pygments_lexer": "ipython3",
   "version": "3.7.11"
  }
 },
 "nbformat": 4,
 "nbformat_minor": 4
}
