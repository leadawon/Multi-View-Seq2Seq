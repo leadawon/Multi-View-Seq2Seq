{
 "cells": [
  {
   "cell_type": "code",
   "execution_count": 15,
   "metadata": {},
   "outputs": [],
   "source": [
    "import uts"
   ]
  },
  {
   "cell_type": "code",
   "execution_count": 16,
   "metadata": {},
   "outputs": [],
   "source": [
    "import json\n",
    "with open('train.json', encoding = 'utf8') as json_file:\n",
    "    train = json.load(json_file)\n",
    "with open('test.json', encoding = 'utf8') as json_file:\n",
    "    test = json.load(json_file)\n",
    "with open('val.json', encoding = 'utf8') as json_file:\n",
    "    val = json.load(json_file)"
   ]
  },
  {
   "cell_type": "code",
   "execution_count": 17,
   "metadata": {},
   "outputs": [],
   "source": [
    "import gensim"
   ]
  },
  {
   "cell_type": "code",
   "execution_count": 18,
   "metadata": {},
   "outputs": [],
   "source": [
    "def remove_name(s):\n",
    "    temp = \"\"\n",
    "    flag = 0\n",
    "    for i in range(0, len(s)):\n",
    "        if s[i] == ':':\n",
    "            flag = 1\n",
    "            continue\n",
    "        if flag == 1:\n",
    "            temp += s[i]\n",
    "    return temp"
   ]
  },
  {
   "cell_type": "code",
   "execution_count": 19,
   "metadata": {},
   "outputs": [],
   "source": [
    "sent = []\n",
    "for data in (train, test, val):\n",
    "    for i in range(0, len(data)):\n",
    "        if len(data[i]['dialogue'].split('\\r\\n')) > 1:\n",
    "            sentences = data[i]['dialogue'].split('\\r\\n')\n",
    "        else:\n",
    "            sentences = data[i]['dialogue'].split('\\n')\n",
    "        sent.append(sentences)"
   ]
  },
  {
   "cell_type": "code",
   "execution_count": 20,
   "metadata": {},
   "outputs": [
    {
     "data": {
      "text/plain": [
       "['Amanda: I baked  cookies. Do you want some?',\n",
       " 'Jerry: Sure!',\n",
       " \"Amanda: I'll bring you tomorrow :-)\"]"
      ]
     },
     "execution_count": 20,
     "metadata": {},
     "output_type": "execute_result"
    }
   ],
   "source": [
    "sent[0]"
   ]
  },
  {
   "cell_type": "code",
   "execution_count": 21,
   "metadata": {},
   "outputs": [
    {
     "name": "stderr",
     "output_type": "stream",
     "text": [
      "[nltk_data] Downloading package punkt to /home/leadawon5/nltk_data...\n",
      "[nltk_data]   Package punkt is already up-to-date!\n"
     ]
    }
   ],
   "source": [
    "import nltk\n",
    "nltk.download('punkt')\n",
    "import string\n",
    "from nltk.tokenize import word_tokenize\n",
    "table = str.maketrans('', '', string.punctuation)\n",
    "sentences = []\n",
    "for i in range(0, len(sent)):\n",
    "    for s in sent[i]:\n",
    "        temp_sent = remove_name(s)\n",
    "        tokens = word_tokenize(temp_sent)\n",
    "        tokens = [w.lower() for w in tokens]\n",
    "        stripped = [w.translate(table) for w in tokens]\n",
    "        sentences.append(stripped)"
   ]
  },
  {
   "cell_type": "code",
   "execution_count": 22,
   "metadata": {},
   "outputs": [],
   "source": [
    "## above code is dummy code\n",
    "## below is start of this file"
   ]
  },
  {
   "cell_type": "code",
   "execution_count": 23,
   "metadata": {},
   "outputs": [],
   "source": [
    "from C99 import C99"
   ]
  },
  {
   "cell_type": "code",
   "execution_count": 24,
   "metadata": {},
   "outputs": [],
   "source": [
    "import pickle\n",
    "with open('train_sentence_transformer.pkl', 'rb') as f:\n",
    "    train = pickle.load(f)\n",
    "with open('val_sentence_transformer.pkl', 'rb') as f:\n",
    "    val = pickle.load(f)\n",
    "with open('test_sentence_transformer.pkl', 'rb') as f:\n",
    "    test = pickle.load(f)"
   ]
  },
  {
   "cell_type": "code",
   "execution_count": null,
   "metadata": {},
   "outputs": [],
   "source": []
  },
  {
   "cell_type": "code",
   "execution_count": null,
   "metadata": {},
   "outputs": [],
   "source": []
  },
  {
   "cell_type": "code",
   "execution_count": 29,
   "metadata": {},
   "outputs": [],
   "source": [
    "def encode_convs(profix):\n",
    "    model = C99(window = 4, std_coeff = 1)\n",
    "    sent_label = []\n",
    "    with open(profix+\"_sentence_transformer.pkl\", 'rb') as f:\n",
    "        data = pickle.load(f)\n",
    "    for i in range(0, len(data)):\n",
    "        boundary = model.segment(data[i])\n",
    "        temp_labels = []\n",
    "        l = 0\n",
    "        for j in range(0, len(boundary)):\n",
    "            if boundary[j] == 1:\n",
    "                l += 1\n",
    "            temp_labels.append(l)\n",
    "        sent_label.append(temp_labels)\n",
    "    \n",
    "    with open(profix + '_sent_c99_label.pkl', 'wb') as f:\n",
    "        pickle.dump(sent_label, f)\n",
    "    \n",
    "    return sent_label"
   ]
  },
  {
   "cell_type": "code",
   "execution_count": 30,
   "metadata": {},
   "outputs": [
    {
     "name": "stdout",
     "output_type": "stream",
     "text": [
      "[[1, 2, 2], [1, 2, 2, 3], [1, 1, 1, 1, 1, 1, 1, 1, 1, 1], [1, 2, 2, 3], [1, 2, 2, 2, 2, 3, 3, 3, 4, 4, 4, 4, 4, 5, 5, 5, 5, 5, 6, 6, 6, 7], [1, 1, 2, 2, 3, 3], [1, 2, 2, 3, 3, 4, 4, 5, 5, 5, 6, 6, 6, 7, 7, 8, 8, 8, 9, 9, 9, 10, 10, 11], [1, 2, 2, 2, 3, 3, 3, 4, 4, 5, 5, 5, 5, 6, 6, 7], [1, 2, 2, 2, 3], [1, 2, 2, 3, 3, 4, 4, 4, 5, 5, 6, 6, 6, 7, 7, 8, 8, 9, 9, 10], [1, 2, 2, 2, 3, 3, 3, 3, 4, 4, 4, 5], [1, 1, 2], [1, 2, 2, 2], [1, 2, 2, 2, 3, 3, 4, 4, 4, 5, 5], [1, 2, 2, 3, 3, 3, 4, 4, 5, 5, 5, 6, 6, 7, 7, 8, 8, 8, 9], [1, 1, 2, 2, 2, 2, 3, 3, 3, 4, 4, 5, 5, 6, 6, 7, 7], [1, 2, 2, 2], [1, 1, 1, 1, 2, 2], [1, 1, 2, 2, 2, 2, 3], [1, 1, 2, 2, 3], [1, 1, 2, 2, 3, 3, 4, 4, 4, 5, 5, 6, 6, 6, 7, 7], [1, 1, 2, 2, 3, 3, 3, 3, 3, 4, 4, 5, 5, 6, 6, 7, 7, 7, 8, 8], [1, 1, 2], [1, 1, 1, 2, 2, 3, 3, 4, 4, 4, 5, 5, 6, 6, 7, 7, 7, 8, 8], [1, 2, 2, 2], [1, 2, 2, 3, 3, 3, 4, 4, 4, 4, 5, 5, 6, 6], [1, 2, 2, 2, 3, 3, 4, 4, 4, 5], [1, 1, 2, 2, 3, 3, 4, 4, 5, 5, 5, 6], [1, 2, 2, 3, 3, 3, 4, 4, 5, 5, 6, 6, 7, 7, 7, 8], [1, 2, 2, 2, 3, 3, 4, 4, 4, 5, 5, 5, 6, 6, 7, 7], [1, 1, 1, 2, 2, 2, 3, 3, 4, 4, 4, 4, 5, 5], [1, 2, 2, 2, 3, 3, 4, 4, 5, 5, 6, 6, 7, 7], [1, 1, 2], [1, 1, 2, 2, 3, 3, 4, 4, 4, 5, 5, 5, 6, 6, 7, 7], [1, 1, 2, 2, 2, 3, 3, 4, 4, 5, 5, 6, 6, 6, 7], [1, 1, 2, 2, 3, 3, 4, 4, 4, 5, 5, 6], [1, 1, 2, 2, 3, 3, 4, 4, 4, 5, 5, 5], [1, 1, 1, 1, 2, 2, 2, 2, 3, 3, 3, 3, 3, 4], [1, 1, 2, 2, 2, 3, 3, 3, 4, 4, 5, 5, 6, 6, 6, 7, 7, 7], [1, 2, 2, 3, 3, 4, 4, 5, 5, 5, 6, 6, 7, 7, 7, 8, 8, 9, 9, 9, 10, 10, 10, 11, 11, 11, 12, 12], [1, 2, 2, 2, 3, 3, 3, 3, 4, 4, 5, 5, 6], [1, 1, 2, 2, 2, 3, 3, 3, 3, 4, 4, 4, 5, 5, 5, 6, 6, 6, 7, 7, 7], [1, 1, 1, 2, 2, 2, 3, 3, 4, 4], [1, 1, 2, 2, 2, 2, 3, 3, 3, 4, 4, 5, 5, 5, 6, 6, 7], [1, 1, 1, 2, 2, 2, 2, 2, 2, 2, 2, 3, 3, 3, 4, 4, 4], [1, 2, 2, 3, 3, 4, 4, 5, 5, 5, 6, 6, 7, 7, 8, 8, 9, 9, 9, 10, 10, 11], [1, 1, 1, 1, 1, 1, 1, 1, 1, 1, 1], [1, 1, 2, 2, 3, 3, 4, 4, 4, 5, 5, 6, 6, 7, 7, 7, 8, 8, 9, 9, 9, 10], [1, 2, 2, 2, 3, 3, 4, 4, 4, 5], [1, 1, 2, 2, 3, 3, 4, 4, 5, 5, 5, 6, 6, 7, 7, 8, 8, 9, 9, 10, 10, 11], [1, 1, 1, 1, 1], [1, 2, 2, 3, 3, 4, 4, 4, 5, 5, 6, 6], [1, 1, 1, 1], [1, 2, 2, 2, 2, 3, 3, 3, 3, 4, 4, 4], [1, 1, 2, 2, 3, 3, 3, 4, 4, 5, 5, 5, 5, 6], [1, 1, 2, 2, 2, 3, 3, 4], [1, 1, 1, 1, 1, 1, 2, 2, 2, 2, 2, 2, 2, 2, 3], [1, 2, 2, 3, 3, 4, 4, 5, 5, 6, 6, 6, 7, 7, 8, 8, 9, 9, 10, 10, 10, 11], [1, 1, 1, 1, 2, 2, 2, 2], [1, 1, 2, 2, 2, 3, 3, 4, 4, 5, 5, 6, 6, 7], [1, 1, 2, 2, 2, 2, 3, 3, 4, 4, 4, 4, 5, 5, 5, 6, 6, 6, 7, 7], [1, 1, 2, 2, 2, 3, 3, 4, 4, 5, 5, 6, 6, 7, 7, 8, 8, 8, 9, 9], [1, 1, 2, 2, 3, 3], [1, 1, 2, 2, 3, 3, 4, 4, 4, 5, 5, 6, 6, 6], [1, 1, 2, 2], [1, 1, 2, 2, 3, 3], [1, 1, 1, 2, 2, 2, 3, 3, 3, 4], [1, 1, 1, 2, 2, 2, 2, 3], [1, 1, 1, 2, 2, 2, 2, 2, 3, 3, 3, 4, 4, 4], [1, 1, 1, 1], [1, 2, 2], [1, 1, 1, 2, 2, 2, 3, 3], [1, 1, 2, 2, 2, 3, 3, 3, 4, 4, 5, 5, 6, 6, 6], [1, 2, 2, 2], [1, 1, 2, 2, 2, 2, 2, 2, 2, 2], [1, 1, 2, 2, 3, 3, 4], [1, 2, 2, 2, 3, 3, 3, 3, 4, 4, 4, 5, 5, 5, 6, 6, 7, 7, 7, 7, 8, 8, 8, 9], [1, 2, 2, 3, 3, 4, 4, 5], [1, 2, 2, 2, 2, 2, 2, 2], [1, 1, 1, 2, 2, 3, 3, 4, 4, 5, 5, 6, 6, 6, 7, 7, 7], [1, 1, 1, 2, 2, 2, 2, 2, 3, 3, 3, 4, 4, 4, 4, 5, 5, 5, 6, 6, 7, 7, 7, 8, 8], [1, 1, 2, 2, 2, 3, 3, 3], [1, 2, 2, 2, 2], [1, 1, 2, 2, 2, 3, 3, 4, 4, 4, 5, 5, 6, 6, 7, 7, 8, 8, 9, 9, 9, 10], [1, 1, 2, 2, 2, 3, 3, 3, 4, 4], [1, 1, 2, 2, 3, 3, 3, 3, 4, 4], [1, 2, 2], [1, 1, 2, 2, 2, 3, 3, 3, 4], [1, 1, 2, 2, 3, 3, 3, 4, 4, 5, 5, 5, 6, 6, 6, 7, 7, 7, 8, 8], [1, 2, 2, 2, 3, 3, 3, 4, 4, 5, 5, 6, 6, 6, 6, 7], [1, 2, 2, 3, 3], [1, 2, 2, 2], [1, 2, 2, 2, 3, 3, 4, 4, 5, 5], [1, 1, 2, 2, 3, 3], [1, 1, 2, 2, 2], [1, 1, 2, 2], [1, 2, 2, 3, 3, 4, 4, 5, 5, 5, 6, 6, 7, 7, 8, 8, 9, 9, 9, 9, 10, 10], [1, 2, 2, 3, 3, 4, 4, 4, 4, 5, 5, 6], [1, 1, 1, 2, 2, 2, 2, 2, 2], [1, 1, 2, 2]]\n"
     ]
    }
   ],
   "source": [
    "l = encode_convs('train')"
   ]
  },
  {
   "cell_type": "code",
   "execution_count": 27,
   "metadata": {},
   "outputs": [],
   "source": [
    "l = encode_convs('val')"
   ]
  },
  {
   "cell_type": "code",
   "execution_count": 28,
   "metadata": {},
   "outputs": [],
   "source": [
    "l = encode_convs('test')"
   ]
  },
  {
   "cell_type": "code",
   "execution_count": null,
   "metadata": {},
   "outputs": [],
   "source": []
  },
  {
   "cell_type": "code",
   "execution_count": null,
   "metadata": {},
   "outputs": [],
   "source": []
  },
  {
   "cell_type": "code",
   "execution_count": null,
   "metadata": {},
   "outputs": [],
   "source": []
  }
 ],
 "metadata": {
  "kernelspec": {
   "display_name": "myvenv",
   "language": "python",
   "name": "myvenv"
  },
  "language_info": {
   "codemirror_mode": {
    "name": "ipython",
    "version": 3
   },
   "file_extension": ".py",
   "mimetype": "text/x-python",
   "name": "python",
   "nbconvert_exporter": "python",
   "pygments_lexer": "ipython3",
   "version": "3.7.6"
  }
 },
 "nbformat": 4,
 "nbformat_minor": 4
}
