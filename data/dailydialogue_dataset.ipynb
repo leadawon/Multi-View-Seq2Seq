{
 "cells": [
  {
   "cell_type": "code",
   "execution_count": 3,
   "metadata": {},
   "outputs": [],
   "source": [
    "import json\n",
    "with open(\"./daily_dialogue/dd_withsum.json\") as f:\n",
    "    dataset = json.load(f)"
   ]
  },
  {
   "cell_type": "code",
   "execution_count": 5,
   "metadata": {},
   "outputs": [],
   "source": [
    "custom_dataset = {\"train\":[],\"test\":[],\"validation\":[]}\n",
    "for i in range(10):\n",
    "    custom_dataset[\"train\"].append({'dialogue':dataset['dd'][i],'summary':dataset['sum'][i]})"
   ]
  },
  {
   "cell_type": "code",
   "execution_count": 6,
   "metadata": {},
   "outputs": [],
   "source": [
    "for i in range(10,15):\n",
    "    custom_dataset[\"validation\"].append({'dialogue':dataset['dd'][i],'summary':dataset['sum'][i]})\n",
    "for i in range(15,20):\n",
    "    custom_dataset[\"test\"].append({'dialogue':dataset['dd'][i],'summary':dataset['sum'][i]})"
   ]
  },
  {
   "cell_type": "code",
   "execution_count": 7,
   "metadata": {},
   "outputs": [],
   "source": [
    "train_data=custom_dataset['train']\n",
    "test_data = custom_dataset['test']\n",
    "val_data = custom_dataset['validation']"
   ]
  },
  {
   "cell_type": "code",
   "execution_count": 8,
   "metadata": {},
   "outputs": [],
   "source": [
    "import json\n",
    "with open('train.json','w', encoding = 'utf8') as json_file:\n",
    "    json.dump(train_data,json_file)\n",
    "with open('test.json','w', encoding = 'utf8') as json_file:\n",
    "    json.dump(test_data,json_file)\n",
    "with open('val.json','w' ,encoding = 'utf8') as json_file:\n",
    "    json.dump(val_data,json_file)"
   ]
  },
  {
   "cell_type": "code",
   "execution_count": 9,
   "metadata": {},
   "outputs": [
    {
     "name": "stdout",
     "output_type": "stream",
     "text": [
      "{'dialogue': \"Speaker 1: Say, Jim, How about going for a few beers after dinner?\\nSpeaker 2: You know that is tempting but is really not good for our fitness.\\nSpeaker 1: What do you mean? It will help us to relax.\\nSpeaker 2: Do you really think so? I don't. It will just make us fat and act silly. Remember last time?\\nSpeaker 1: I guess you are right. But what shall we do? I don't feel like sitting at home.\\nSpeaker 2: I suggest a walk over to the gym where we can play singsong and meet some of our friends.\\nSpeaker 1: That's a good idea. I hear Mary and Sally often go there to play pingpong. Perhaps we can make a foursome with them.\\nSpeaker 2: Sounds great to me! If they are willing, We could ask them to go dancing with us. That is excellent exercise and fun, Too.\\nSpeaker 1: Good. Let's go now.\\nSpeaker 2: All right.\", 'summary': \"Jim suggests going for a few beers after dinner, but his friend mentions it wouldn't be good for their fitness and might make them gain weight. They decide to go to the gym instead to play singsong and potentially meet up with friends. They also consider asking Mary and Sally to join them for dancing, which would be excellent exercise and enjoyable. They agree to go to the gym and potentially ask Mary and Sally to go dancing with them.\"}\n",
      "{'dialogue': \"Speaker 1: Can you do push-ups?\\nSpeaker 2: Of course I can. It's a piece of cake! Believe it or not, I can do 30 push-ups a minute.\\nSpeaker 1: Really? I think that's impossible!\\nSpeaker 2: You mean 30 push-ups?\\nSpeaker 1: Yeah!\\nSpeaker 2: It's easy. If you do exercise everyday, You can make it, Too.\", 'summary': \"Speaker 1 is doubtful about Speaker 2's ability to do 30 push-ups in a minute. Speaker 2 confidently claims that they can do it and that it is easy if one exercises regularly.\"}\n",
      "{'dialogue': \"Speaker 1: Can you study with the radio on?\\nSpeaker 2: No, I listen to background music.\\nSpeaker 1: What is the difference?\\nSpeaker 2: The radio has too many comerials.\\nSpeaker 1: That's true, But then you have to buy a record player.\", 'summary': 'Speaker 2 prefers to study with background music because the radio has too many commercials. However, Speaker 1 suggests buying a record player instead.'}\n",
      "{'dialogue': \"Speaker 1: Are you all right?\\nSpeaker 2: I will be all right soon. I was terrified when I watched them fall from the wire.\\nSpeaker 1: Don't worry. He is an acrobat。.\\nSpeaker 2: I see.\", 'summary': 'Speaker 2 was scared after watching someone fall from a wire, but Speaker 1 assures them that the person is an acrobat and will be okay. Speaker 2 understands and feels relieved.'}\n",
      "{'dialogue': \"Speaker 1: Hey John, Nice skates. Are they new?\\nSpeaker 2: Yeah, I just got them. I started playing ice hockey in a community league. So, I finally got myself new skates.\\nSpeaker 1: What position do you play?\\nSpeaker 2: I'm a defender. It's a lot of fun. You don't have to be able to skate as fast on defense.\\nSpeaker 1: Yeah, You're a pretty big guy. I play goalie, Myself.\\nSpeaker 2: Oh, Yeah? Which team?\\nSpeaker 1: The Rockets.\\nSpeaker 2: Really? I think we play you guys next week. Well, I have to go to practice. See you later.\\nSpeaker 1: All right, See you later.\", 'summary': \"In the dialogue, John compliments the speaker's new skates and asks if they are new. The speaker confirms and explains that they got them for playing ice hockey in a community league. John asks about the speaker's position, and they say they are a defender. John reveals that he plays goalie for the Rockets team. The speaker mentions that they will be playing against the Rockets next week. The dialogue ends with both agreeing to see each other later.\"}\n",
      "{'dialogue': \"Speaker 1: Hey Lydia, What are you reading?\\nSpeaker 2: I'm looking at my horoscope for this month! My outlook is very positive. It says that I should take a vacation to someplace exotic, And that I will have a passionate summer fling!\\nSpeaker 1: What are you talking about? Let me see that... What are horoscopes?\\nSpeaker 2: It's a prediction of your month, Based on your zodiac sign. You have a different sign for the month and date you were born in. I was born on April 15th, So I'm an Aries. When were you born?\\nSpeaker 1: January 5th.\\nSpeaker 2: Let's see... You're a Capricorn. It says that you will be feeling stress at work, But you could see new, Exciting developments in your love life. Looks like we'll both have interesting summers!\\nSpeaker 1: That's bogus. I don't feel any stress at work, And my love life is practically nonexistent. This zodiac stuff is all a bunch of nonsense.\\nSpeaker 2: No, It's not, Your astrology sign can tell you a lot about your personality. See? It says that an Aries is energetic and loves to socialize.\\nSpeaker 1: Well, You certainly match those criteria, But they're so broad they could apply to anyone. What does it say about me?\\nSpeaker 2: A Capricorn is serious-minded and practical. She likes to do things in conventional ways. That sounds just like you!\", 'summary': \"Speaker 1 is skeptical of horoscopes and believes they are nonsense. Speaker 2 tries to convince them by explaining that horoscopes are based on zodiac signs and can provide predictions for their month ahead. Speaker 1 is a Capricorn and learns that they may experience work-related stress but could have exciting developments in their love life. Speaker 1 still remains skeptical, believing that the descriptions are broad and could apply to anyone. Speaker 2 disagrees, stating that astrology signs can provide insight into one's personality. Speaker 1 asks about their own sign and learns that as an Aries, they are described as energetic and social. The dialogue ends without a resolution as Speaker 1 remains skeptical.\"}\n",
      "{'dialogue': \"Speaker 1: Frank's getting married, Do you believe this?\\nSpeaker 2: Is he really?\\nSpeaker 1: Yes, He is. He loves the girl very much.\\nSpeaker 2: Who is he marring?\\nSpeaker 1: A girl he met on holiday in Spain, I think.\\nSpeaker 2: Have they set a date for the wedding?\\nSpeaker 1: Not yet.\", 'summary': 'Frank is getting married to a girl he met on holiday in Spain. They have not yet set a date for the wedding.'}\n",
      "{'dialogue': \"Speaker 1: I hear you bought a new house in the northern suburbs.\\nSpeaker 2: That's right, We bought it the same day we came on the market.\\nSpeaker 1: What kind of house is it?\\nSpeaker 2: It's a wonderful Spanish style.\\nSpeaker 1: Oh, I love the roof tiles on Spanish style houses.\\nSpeaker 2: And it's a bargaining. A house like this in river side costs double the price.\\nSpeaker 1: Great, Is it a two bedroom house?\\nSpeaker 2: No, It has three bedrooms and three beds, And has a living room with a twelve-foot ceiling. There's a two-car garage.\\nSpeaker 1: That's a nice area too. It'll be a good investment for you.\\nSpeaker 2: Yeas, When will you buy a house?\\nSpeaker 1: Not untill the end of this year, You know, Just before my wedding.\\nSpeaker 2: Right, Congratulations.\\nSpeaker 1: Thank you.\", 'summary': 'Speaker 2 recently bought a new house in the northern suburbs. It is a Spanish style house with roof tiles that they love. They purchased it the same day it came on the market, and it was a great bargain compared to similar houses in Riverside. The house has three bedrooms, three bathrooms, a living room with a high ceiling, and a two-car garage. Speaker 1 congratulates Speaker 2 on their purchase and mentions their plan to buy a house before their upcoming wedding at the end of the year.'}\n",
      "{'dialogue': \"Speaker 1: Hi, Becky, What's up?\\nSpeaker 2: Not much, Except that my mother-in-law is driving me up the wall.\\nSpeaker 1: What's the problem?\\nSpeaker 2: She loves to nit-pick and criticizes everything that I do. I can never do anything right when she's around.\\nSpeaker 1: For example?\\nSpeaker 2: Well, Last week I invited her over to dinner. My husband and I had no problem with the food, But if you listened to her, Then it would seem like I fed her old meat and rotten vegetables. There's just nothing can please her.\\nSpeaker 1: No, I can't see that happening. I know you're a good cook and nothing like that would ever happen.\\nSpeaker 2: It's not just that. She also criticizes how we raise the kids.\\nSpeaker 1: My mother-in-law used to do the same thing to us. If it wasn't disciplining them enough, Then we were disciplining them too much. She also complained about the food we fed them, The schools we sent them too, And everything else under the sun.\\nSpeaker 2: You said she used to? How did you stop her?\\nSpeaker 1: We basically sat her down and told her how we felt about her constant criticizing, And how we welcomed her advice but hoped she'd let us do our things. She understood, And now everything is a lot more peaceful.\\nSpeaker 2: That sounds like a good idea. I'll have to try that.\", 'summary': \"Speaker 2 is frustrated with their mother-in-law's constant criticism and nit-picking. They recount an incident where their mother-in-law criticized their cooking and share that she also criticizes their parenting. Speaker 1 relates to this experience and shares that they had a similar issue with their own mother-in-law. They explain that they resolved the situation by having a conversation with her about their feelings and boundaries. Speaker 2 expresses interest in trying this approach.\"}\n",
      "{'dialogue': \"Speaker 1: How are Zina's new programmers working out?\\nSpeaker 2: I hate to admit it, But they're good. And fast. The Filipino kid is a genius.\\nSpeaker 1: So you'll make the Stars. Com deadline, And have us up and running next week?\\nSpeaker 2: It'll be close, But we'll make it.\\nSpeaker 1: Good. After Stars. Com starts paying us, We won't need Vikam's cash anymore.\\nSpeaker 2: And if we don't need them, We won't need Zina, Either.\", 'summary': \"Speaker 1 is asking how Zina's new programmers are doing. Speaker 2 admits that they are good and fast, especially the Filipino programmer who is seen as a genius. Speaker 1 is relieved to hear this and says that they will be able to meet the Stars.com deadline and have the company up and running by next week. Speaker 1 also mentions that once Stars.com starts paying them, they won't need Vikam's cash anymore. Speaker 2 agrees and suggests that if they don't need Vikam, they won't need Zina either.\"}\n"
     ]
    }
   ],
   "source": [
    "for i in train_data:\n",
    "    print(i)"
   ]
  },
  {
   "cell_type": "code",
   "execution_count": 8,
   "metadata": {},
   "outputs": [
    {
     "name": "stderr",
     "output_type": "stream",
     "text": [
      "Downloading (…)lve/main/config.json: 100%|█████████████████████████| 481/481 [00:00<00:00, 313kB/s]\n",
      "Downloading (…)olve/main/vocab.json: 100%|██████████████████████| 899k/899k [00:00<00:00, 1.29MB/s]\n",
      "Downloading (…)olve/main/merges.txt: 100%|███████████████████████| 456k/456k [00:00<00:00, 878kB/s]\n",
      "Downloading (…)/main/tokenizer.json: 100%|████████████████████| 1.36M/1.36M [00:00<00:00, 2.62MB/s]\n",
      "Downloading (…)lve/main/config.json: 100%|█████████████████████████| 665/665 [00:00<00:00, 384kB/s]\n",
      "Downloading (…)olve/main/vocab.json: 100%|████████████████████| 1.04M/1.04M [00:00<00:00, 1.51MB/s]\n",
      "Downloading (…)olve/main/merges.txt: 100%|███████████████████████| 456k/456k [00:00<00:00, 899kB/s]\n",
      "Downloading (…)/main/tokenizer.json: 100%|████████████████████| 1.36M/1.36M [00:00<00:00, 7.63MB/s]\n"
     ]
    }
   ],
   "source": [
    "from transformers import AutoTokenizer\n",
    "tokenizerr = AutoTokenizer.from_pretrained('roberta-base')\n",
    "tokenizerg = AutoTokenizer.from_pretrained('gpt2')"
   ]
  },
  {
   "cell_type": "code",
   "execution_count": 10,
   "metadata": {},
   "outputs": [
    {
     "name": "stdout",
     "output_type": "stream",
     "text": [
      "| Marla: <file_photo> Marla: look what I found under my bed | Kiki: lol Tamara: is that someone's underwear? | Marla: it certainly isn't mine, my ass is big but it isn't huge Kiki: it looks like male underwear Tamara: not necessarily, maybe some butch had fun in your room while you were gone Marla: ok but how can you leave your underwear after hooking up? wtf is wrong with people Kiki: she or he could be too wasted to notice Tamara: or maybe someone put their pants there to piss you off Marla: that makes no sense Marla: it's so fucking childish Kiki: if it's childish then it must have been your sister's idea Marla: she's 13, she doesn't have underwear that isn't pink Tamara: maybe it belonged to one of your exes? Kiki: she would have recognized it Marla: lol we're doing total CSI investigation on one pair of boxers :D Kiki: <file_gif> Tamara: lol Tamara: I think your sister convinced someone to put their underwear in your room as a dare Marla: sounds legit Kiki: Tamara, you just cracked the case! Tamara: <file_gif> Tamara: always happy to help</s>\n",
      "</s>Lucy owes Tina 50 dollars. She made a transfer but it is Sunday so the payment will be on Tina's account on Monday. Tina needs the money because she has been having expanses recently.\n"
     ]
    }
   ],
   "source": [
    "arr1 =[\n",
    "15483,  1127,  2560,    35, 28696, 21710,  1215, 17827, 15698,  1127,\n",
    "          2560,    35,   356,    99,    38,   303,   223,   127,  3267,  1721,\n",
    "           229,  8907,    35, 29784,  7736,  1742,    35,    16,    14,   951,\n",
    "            18, 20745,   116,  1721,  1127,  2560,    35,    24,  1819,   965,\n",
    "            75,  4318,     6,   127,  8446,    16,   380,    53,    24,   965,\n",
    "            75,  1307,   229,  8907,    35,    24,  1326,   101,  2943, 20745,\n",
    "          7736,  1742,    35,    45,  4784,     6,  2085,   103,    53,   611,\n",
    "            56,  1531,    11,   110,   929,   150,    47,    58,  1613,  1127,\n",
    "          2560,    35, 15983,    53,   141,    64,    47,   989,   110, 20745,\n",
    "            71,  9337,   154,    62,   116,   885, 41407,    16,  1593,    19,\n",
    "            82,   229,  8907,    35,    79,    50,    37,   115,    28,   350,\n",
    "         14260,     7,  3120,  7736,  1742,    35,    50,  2085,   951,   342,\n",
    "            49,  9304,    89,     7, 38768,    47,   160,  1127,  2560,    35,\n",
    "            14,   817,   117,  1472,  1127,  2560,    35,    24,    18,    98,\n",
    "         23523, 40531,   229,  8907,    35,   114,    24,    18, 40531,   172,\n",
    "            24,   531,    33,    57,   110,  2761,    18,  1114,  1127,  2560,\n",
    "            35,    79,    18,   508,     6,    79,   630,    75,    33, 20745,\n",
    "            14,   965,    75,  6907,  7736,  1742,    35,  2085,    24, 14574,\n",
    "             7,    65,     9,   110,  1931,   293,   116,   229,  8907,    35,\n",
    "            79,    74,    33,  4984,    24,  1127,  2560,    35, 29784,    52,\n",
    "           214,   608,   746, 31888,   803,    15,    65,  1763,     9,  2233,\n",
    "           268,  4832,   495,   229,  8907,    35, 28696, 21710,  1215, 47324,\n",
    "         15698,  7736,  1742,    35, 29784,  7736,  1742,    35,    38,   206,\n",
    "           110,  2761,  7013,   951,     7,   342,    49, 20745,    11,   110,\n",
    "           929,    25,    10, 19046,  1127,  2560,    35,  4428, 32369,   229,\n",
    "          8907,    35,  7736,  1742,     6,    47,    95, 16212,     5,   403,\n",
    "           328,  7736,  1742,    35, 28696, 21710,  1215, 47324, 15698,  7736,\n",
    "          1742,    35,   460,  1372,     7,   244,     2\n",
    "]\n",
    "arr2 =[\n",
    "    2, 25370,  4469, 20893, 15720,   654,  1932,     4,   264,   156,\n",
    "            10,  2937,    53,    24,    16,   395,    98,     5,  3207,    40,\n",
    "            28,    15, 15720,    18,  1316,    15,   302,     4, 15720,   782,\n",
    "             5,   418,   142,    79,    34,    57,   519, 44201,   293,   682,\n",
    "             4\n",
    "]\n",
    "#5187 4813\n",
    "#4880 5120\n",
    "\n",
    "\n",
    "\n",
    "decoded_text1 = tokenizerr.decode(arr1)\n",
    "decoded_text2 = tokenizerr.decode(arr2)\n",
    "print(decoded_text1)\n",
    "print(decoded_text2)"
   ]
  },
  {
   "cell_type": "code",
   "execution_count": 28,
   "metadata": {},
   "outputs": [
    {
     "name": "stdout",
     "output_type": "stream",
     "text": [
      "{'dialogue': \"A: Hi Tom, are you busy tomorrow’s afternoon?\\r\\nB: I’m pretty sure I am. What’s up?\\r\\nA: Can you go with me to the animal shelter?.\\r\\nB: What do you want to do?\\r\\nA: I want to get a puppy for my son.\\r\\nB: That will make him so happy.\\r\\nA: Yeah, we’ve discussed it many times. I think he’s ready now.\\r\\nB: That’s good. Raising a dog is a tough issue. Like having a baby ;-) \\r\\nA: I'll get him one of those little dogs.\\r\\nB: One that won't grow up too big;-)\\r\\nA: And eat too much;-))\\r\\nB: Do you know which one he would like?\\r\\nA: Oh, yes, I took him there last Monday. He showed me one that he really liked.\\r\\nB: I bet you had to drag him away.\\r\\nA: He wanted to take it home right away ;-).\\r\\nB: I wonder what he'll name it.\\r\\nA: He said he’d name it after his dead hamster – Lemmy  - he's  a great Motorhead fan :-)))\", 'summary': 'A will go to the animal shelter tomorrow to get a puppy for her son. They already visited the shelter last Monday and the son chose the puppy. '}\n",
      "{'dialogue': 'Emma: I’ve just fallen in love with this advent calendar! Awesome! I wanna one for my kids!\\r\\nRob: I used to get one every year as a child! Loved them! \\r\\nEmma: Yeah, i remember! they were filled with chocolates!\\r\\nLauren: they are different these days! much more sophisticated! Haha!\\r\\nRob: yeah, they can be fabric/ wooden, shop bought/ homemade, filled with various stuff\\r\\nEmma: what do you fit inside?\\r\\nLauren: small toys, Christmas decorations, creative stuff, hair bands & clips, stickers, pencils & rubbers, small puzzles, sweets\\r\\nEmma: WOW! That’s brill! X\\r\\nLauren: i add one more very special thing as well- little notes asking my children to do something nice for someone else\\r\\nRob: i like that! My sister adds notes asking her kids questions about christmas such as What did the 3 wise men bring? etc\\r\\nLauren: i reckon it prepares them for Christmas \\r\\nEmma: and makes it more about traditions and being kind to other people\\r\\nLauren: my children get very excited every time they get one!\\r\\nEmma: i can see why! :)', 'summary': 'Emma and Rob love the advent calendar. Lauren fits inside calendar various items, for instance, small toys and Christmas decorations. Her children are excited whenever they get the calendar.'}\n",
      "{'dialogue': \"Jackie: Madison is pregnant\\r\\nJackie: but she doesn't wanna talk about it\\r\\nIggy: why\\r\\nJackie: I don't know why because she doesn't wanna talk about it\\r\\nIggy: ok\\r\\nJackie: I wanted to prepare you for it because people get super excited and ask lots of questions\\r\\nJackie: and she looked way more anxious than excited\\r\\nIggy: she's probably worrying about it\\r\\nIggy: she's taking every commitment really seriously\\r\\nJackie: it could be money problems or relationship problems\\r\\nIggy: or maybe she wants an abortion\\r\\nJackie: it could be all of the above\\r\\nIggy: but you know what?\\r\\nIggy: once my friend was pregnant and I couldn't bring myself to be happy about it\\r\\nJackie: why?\\r\\nIggy: I felt they were immature and I couldn't picture this couple as parents\\r\\nJackie: I felt similar way on Patricia's wedding\\r\\nIggy: Patricia Stevens?\\r\\nJackie: yes\\r\\nIggy: so we're talking about the same person\\r\\nJackie: what a coincidence\\r\\nJackie: so she's pregnant?\\r\\nIggy: she thought she was\\r\\nJackie: damn...\", 'summary': \"Madison is pregnant but she doesn't want to talk about it. Patricia Stevens got married and she thought she was pregnant. \"}\n",
      "{'dialogue': \"Marla: <file_photo>\\r\\nMarla: look what I found under my bed\\r\\nKiki: lol\\r\\nTamara: is that someone's underwear?\\r\\nMarla: it certainly isn't mine, my ass is big but it isn't huge\\r\\nKiki: it looks like male underwear\\r\\nTamara: not necessarily, maybe some butch had fun in your room while you were gone\\r\\nMarla: ok but how can you leave your underwear after hooking up? wtf is wrong with people\\r\\nKiki: she or he could be too wasted to notice\\r\\nTamara: or maybe someone put their pants there to piss you off\\r\\nMarla: that makes no sense\\r\\nMarla: it's so fucking childish\\r\\nKiki: if it's childish then it must have been your sister's idea\\r\\nMarla: she's 13, she doesn't have underwear that isn't pink\\r\\nTamara: maybe it belonged to one of your exes?\\r\\nKiki: she would have recognized it\\r\\nMarla: lol we're doing total CSI investigation on one pair of boxers :D\\r\\nKiki: <file_gif>\\r\\nTamara: lol\\r\\nTamara: I think your sister convinced someone to put their underwear in your room as a dare\\r\\nMarla: sounds legit\\r\\nKiki: Tamara, you just cracked the case!\\r\\nTamara: <file_gif>\\r\\nTamara: always happy to help\", 'summary': 'Marla found a pair of boxers under her bed.'}\n",
      "{'dialogue': 'Robert: Hey give me the address of this music shop you mentioned before\\r\\nRobert: I have to buy guitar cable\\r\\nFred: <file_other>\\r\\nFred: Catch it on google maps\\r\\nRobert: thx m8\\r\\nFred: ur welcome', 'summary': 'Robert wants Fred to send him the address of the music shop as he needs to buy guitar cable.'}\n",
      "{'dialogue': \"Keith: Meg, pls buy some milk and cereals, I see now we've run out of them\\r\\nMegan: hm, sure, I can do that\\r\\nMegan: but did you check in the drawer next to the fridge?\\r\\nKeith: nope, let me have a look\\r\\nKeith: ok, false alarm, we have cereal and milk :D\\r\\nMegan: <file_gif>\", 'summary': \"Megan needn't buy milk and cereals. They're in the drawer next to the fridge.\"}\n",
      "{'dialogue': \"Samantha: <file_video>\\r\\nEvelyn: LOL\\r\\nHolly: Is SHE making that noise??\\r\\nSamatha: Yes (＾▽＾)\\r\\nHolly: How possible?? :o\\r\\nSamantha: Idk, I'm also surprised!!\\r\\nEvelyn: xD\", 'summary': 'Samantha and Evelyn after watching the video cannot believe she is able to make that noise.'}\n",
      "{'dialogue': \"Theresa: have you been at Tom's new place?\\nLuis: yes, it's nice\\nMarion: He invited us for a dinner\\nAdam: where is it?\\nMarion: a bit outside the city\\nAdam: where exactly?\\nMarion: Fiesole\\nLuis: very nice!\", 'summary': \"Tom's new place is in Fiesole. Luis and Marion has been there. \"}\n",
      "{'dialogue': \"Jane: Hello\\r\\nVegano Resto: Hello, how may I help you today?\\r\\nJane: I would like to make a reservation.\\r\\nJane: For 6 people, tonight around 20:00\\r\\nVegano Resto: Let me just check.\\r\\nVegano Resto: Ah, I'm afraid that there is no room at 20:00.\\r\\nVegano Resto: However, I could offer you a table for six at 18:30 or at 21:00\\r\\nVegano Resto: Would either of those times suit you?\\r\\nJane: Oh dear.\\r\\nJane: Let me just ask my friends.\\r\\nVegano Resto: No problem.\\r\\nJane: 21:00 will be ok.\\r\\nVegano Resto: Perfect. So tonight at 21:00 for six people under your name.\\r\\nJane: great, thank you!\", 'summary': 'Jane made a 9 PM reservation for 6 people tonight at Vegano Resto. '}\n",
      "{'dialogue': 'Nancy: Howdy, how y\\'all doin\\'?\\r\\nTina: Is that a Texan drawl, girl?\\r\\nNancy: Yes ma\\'am! Loving it out here!\\r\\nTina: How\\'s the job going? Kids behaving themselves?\\r\\nNancy: Mostly! They laugh at my accent though!\\r\\nTina: Well, they probably haven\\'t met a Welsh person before!\\r\\nNancy: No shit! They ask me to repeat everything! Best one is \"Water\", course, it\\'s mostly \"Waarderr\" here! \\r\\nTina: LOL. I\\'d love to hear that, you picked up the accent yet?\\r\\nNancy: Nah, 21 years in Cardiff isn\\'t easily removed! \\r\\nTina: We\\'re missing you here, the pub is quiet these days without your laugh!\\r\\nNancy: Miss you too! I\\'m coming home in 6 weeks, though. Last fortnight I\\'m going travelling with 3 other Brits working here, a Geordie girl, a guy from Belfast and Annie, who\\'s from Glasgow.\\r\\nTina: My God, I\\'m so jealous! I bet they had even more trouble being understood out there! See you after your trip!', 'summary': \"Nancy's working in Texas, but the kids laugh at her Welsh accent. She's coming home in 6 weeks. Earlier than that she's going to travel with 3 other Brits.\"}\n"
     ]
    }
   ],
   "source": [
    "for i in val_data:\n",
    "    print(i)"
   ]
  },
  {
   "cell_type": "code",
   "execution_count": 29,
   "metadata": {},
   "outputs": [
    {
     "name": "stdout",
     "output_type": "stream",
     "text": [
      "{'dialogue': \"Hannah: Hey, do you have Betty's number?\\nAmanda: Lemme check\\nHannah: <file_gif>\\nAmanda: Sorry, can't find it.\\nAmanda: Ask Larry\\nAmanda: He called her last time we were at the park together\\nHannah: I don't know him well\\nHannah: <file_gif>\\nAmanda: Don't be shy, he's very nice\\nHannah: If you say so..\\nHannah: I'd rather you texted him\\nAmanda: Just text him 🙂\\nHannah: Urgh.. Alright\\nHannah: Bye\\nAmanda: Bye bye\", 'summary': \"Hannah needs Betty's number but Amanda doesn't have it. She needs to contact Larry.\"}\n",
      "{'dialogue': \"Eric: MACHINE!\\r\\nRob: That's so gr8!\\r\\nEric: I know! And shows how Americans see Russian ;)\\r\\nRob: And it's really funny!\\r\\nEric: I know! I especially like the train part!\\r\\nRob: Hahaha! No one talks to the machine like that!\\r\\nEric: Is this his only stand-up?\\r\\nRob: Idk. I'll check.\\r\\nEric: Sure.\\r\\nRob: Turns out no! There are some of his stand-ups on youtube.\\r\\nEric: Gr8! I'll watch them now!\\r\\nRob: Me too!\\r\\nEric: MACHINE!\\r\\nRob: MACHINE!\\r\\nEric: TTYL?\\r\\nRob: Sure :)\", 'summary': 'Eric and Rob are going to watch a stand-up on youtube.'}\n",
      "{'dialogue': \"Lenny: Babe, can you help me with something?\\r\\nBob: Sure, what's up?\\r\\nLenny: Which one should I pick?\\r\\nBob: Send me photos\\r\\nLenny:  <file_photo>\\r\\nLenny:  <file_photo>\\r\\nLenny:  <file_photo>\\r\\nBob: I like the first ones best\\r\\nLenny: But I already have purple trousers. Does it make sense to have two pairs?\\r\\nBob: I have four black pairs :D :D\\r\\nLenny: yeah, but shouldn't I pick a different color?\\r\\nBob: what matters is what you'll give you the most outfit options\\r\\nLenny: So I guess I'll buy the first or the third pair then\\r\\nBob: Pick the best quality then\\r\\nLenny: ur right, thx\\r\\nBob: no prob :)\", 'summary': \"Lenny can't decide which trousers to buy. Bob advised Lenny on that topic. Lenny goes with Bob's advice to pick the trousers that are of best quality.\"}\n",
      "{'dialogue': \"Will: hey babe, what do you want for dinner tonight?\\r\\nEmma:  gah, don't even worry about it tonight\\r\\nWill: what do you mean? everything ok?\\r\\nEmma: not really, but it's ok, don't worry about cooking though, I'm not hungry\\r\\nWill: Well what time will you be home?\\r\\nEmma: soon, hopefully\\r\\nWill: you sure? Maybe you want me to pick you up?\\r\\nEmma: no no it's alright. I'll be home soon, i'll tell you when I get home. \\r\\nWill: Alright, love you. \\r\\nEmma: love you too. \", 'summary': 'Emma will be home soon and she will let Will know.'}\n",
      "{'dialogue': 'Ollie: Hi , are you in Warsaw\\r\\nJane: yes, just back! Btw are you free for diner the 19th?\\r\\nOllie: nope!\\r\\nJane: and the  18th?\\r\\nOllie: nope, we have this party and you must be there, remember?\\r\\nJane: oh right! i lost my calendar..  thanks for reminding me\\r\\nOllie: we have lunch this week?\\r\\nJane: with pleasure!\\r\\nOllie: friday?\\r\\nJane: ok\\r\\nJane: what do you mean \" we don\\'t have any more whisky!\" lol..\\r\\nOllie: what!!!\\r\\nJane: you just call me and the all thing i heard was that sentence about whisky... what\\'s wrong with you?\\r\\nOllie: oh oh... very strange! i have to be carefull may be there is some spy in my mobile! lol\\r\\nJane: dont\\' worry, we\\'ll check on friday.\\r\\nOllie: don\\'t forget to bring some sun with you\\r\\nJane: I can\\'t wait to be in Morocco..\\r\\nOllie: enjoy and see you friday\\r\\nJane: sorry Ollie, i\\'m very busy, i won\\'t have time for lunch  tomorrow, but may be at 6pm after my courses?this trip to Morocco was so nice, but time consuming!\\r\\nOllie: ok for tea!\\r\\nJane: I\\'m on my way..\\r\\nOllie: tea is ready, did you bring the pastries?\\r\\nJane: I already ate them all... see you in a minute\\r\\nOllie: ok', 'summary': \"Jane is in Warsaw. Ollie and Jane has a party. Jane lost her calendar. They will get a lunch this week on Friday. Ollie accidentally called Jane and talked about whisky. Jane cancels lunch. They'll meet for a tea at 6 pm.\"}\n",
      "{'dialogue': \"Benjamin: Hey guys, what are we doing with the keys today?\\r\\nHilary: I've got them. Whoever wants them can meet me at lunchtime or after\\r\\nElliot: I'm ok. We're meeting for the drinks in the evening anyway and I guess we'll be going back to the apartment together?\\r\\nHilary: Yeah, I guess so\\r\\nDaniel: I'm with Hilary atm and won't let go of her for the rest of the day, so any option you guys choose is good for me\\r\\nBenjamin: Hmm I might actually pass by at lunchtime, take the keys and go take a nap. I'm sooo tired after yesterday\\r\\nHilary: Sounds good. We'll be having lunch with some French people (the ones who work on the history of food in colonial Mexico - I already see you yawning your head off)\\r\\nBenjamin: YAAAAWN 🙊 Where and where are you meeting?\\r\\nHilary: So I'm meeting them at the entrance to the conference hall at 2 pm and then we'll head to this place called La Cantina. Italian cuisine, which is quite funny, but that's what they've chosen\\r\\nBenjamin: Interesting 😱 To be honest, Hilary, I almost feel like changing my mind. Wanting to take this nap might end up costing me to dear\\r\\nHilary: Oh come on 😂\\r\\nBenjamin: All these terrible obstacles on mu way to bed might just prove to much to take\\r\\nHilary: We'll try to avoid talking about their subject of research. Oh wait, no, I'm actually meeting them because I wanted to chat about their research lol\\r\\nElliot: 🙉\\r\\nHilary: Do join us, we're going to have fun. And then you'll take the keys and take this most deserved of naps\\r\\nElliot: Sounds like a plan 😂\\r\\nHilary: 😎\\r\\nElliot: See you at 2 then xx\", 'summary': \"Hilary has the keys to the apartment. Benjamin wants to get them and go take a nap. Hilary is having lunch with some French people at La Cantina. Hilary is meeting them at the entrance to the conference hall at 2 pm. Benjamin and Elliot might join them. They're meeting for the drinks in the evening.\"}\n",
      "{'dialogue': \"Max: Know any good sites to buy clothes from?\\r\\nPayton: Sure :) <file_other> <file_other> <file_other> <file_other> <file_other> <file_other> <file_other>\\r\\nMax: That's a lot of them!\\r\\nPayton: Yeah, but they have different things so I usually buy things from 2 or 3 of them.\\r\\nMax: I'll check them out. Thanks. \\r\\nPayton: No problem :)\\r\\nMax: How about u?\\r\\nPayton: What about me?\\r\\nMax: Do u like shopping?\\r\\nPayton: Yes and no.\\r\\nMax: How come?\\r\\nPayton: I like browsing, trying on, looking in the mirror and seeing how I look, but not always buying.\\r\\nMax: Y not?\\r\\nPayton: Isn't it obvious? ;)\\r\\nMax: Sry ;)\\r\\nPayton: If I bought everything I liked, I'd have nothing left to live on ;)\\r\\nMax: Same here, but probably different category ;)\\r\\nPayton: Lol\\r\\nMax: So what do u usually buy?\\r\\nPayton: Well, I have 2 things I must struggle to resist!\\r\\nMax: Which are?\\r\\nPayton: Clothes, ofc ;)\\r\\nMax: Right. And the second one?\\r\\nPayton: Books. I absolutely love reading!\\r\\nMax: Gr8! What books do u read?\\r\\nPayton: Everything I can get my hands on :)\\r\\nMax: Srsly?\\r\\nPayton: Yup :)\", 'summary': 'Payton provides Max with websites selling clothes. Payton likes browsing and trying on the clothes but not necessarily buying them. Payton usually buys clothes and books as he loves reading.'}\n",
      "{'dialogue': \"Rita: I'm so bloody tired. Falling asleep at work. :-(\\r\\nTina: I know what you mean.\\r\\nTina: I keep on nodding off at my keyboard hoping that the boss doesn't notice..\\r\\nRita: The time just keeps on dragging on and on and on.... \\r\\nRita: I keep on looking at the clock and there's still 4 hours of this drudgery to go.\\r\\nTina: Times like these I really hate my work.\\r\\nRita: I'm really not cut out for this level of boredom.\\r\\nTina: Neither am I.\", 'summary': 'Rita and Tina are bored at work and have still 4 hours left.'}\n",
      "{'dialogue': \"Beatrice: I am in town, shopping. They have nice scarfs in the shop next to the church. Do you want one?\\r\\nLeo: No, thanks\\r\\nBeatrice: But you don't have a scarf.\\r\\nLeo: Because I don't need it.\\r\\nBeatrice: Last winter you had a cold all the time. A scarf could help.\\r\\nLeo: I don't like them.\\r\\nBeatrice: Actually, I don't care. You will get a scarf.\\r\\nLeo: How understanding of you!\\r\\nBeatrice: You were complaining the whole winter that you're going to die. I've had enough.\\r\\nLeo: Eh.\", 'summary': \"Beatrice wants to buy Leo a scarf, but he doesn't like scarves. She cares about his health and will buy him a scarf no matter his opinion.\"}\n",
      "{'dialogue': \"Ivan: hey eric\\r\\nEric: yeah man\\r\\nIvan: so youre coming to the wedding\\r\\nEric: your brother's\\r\\nIvan: yea\\r\\nEric: i dont know mannn\\r\\nIvan: YOU DONT KNOW??\\r\\nEric: i just have a lot to do at home, plus i dont know if my parents would let me\\r\\nIvan: ill take care of your parents\\r\\nEric: youre telling me you have the guts to talk to them XD\\r\\nIvan: thats my problem\\r\\nEric: okay man, if you say so\\r\\nIvan: yea just be there \\r\\nEric: alright\", 'summary': \"Eric doesn't know if his parents let him go to Ivan's brother's wedding. Ivan will talk to them.\"}\n"
     ]
    }
   ],
   "source": [
    "for i in test_data:\n",
    "    print(i)"
   ]
  },
  {
   "cell_type": "code",
   "execution_count": null,
   "metadata": {},
   "outputs": [],
   "source": []
  }
 ],
 "metadata": {
  "kernelspec": {
   "display_name": "myvenv",
   "language": "python",
   "name": "myvenv"
  },
  "language_info": {
   "codemirror_mode": {
    "name": "ipython",
    "version": 3
   },
   "file_extension": ".py",
   "mimetype": "text/x-python",
   "name": "python",
   "nbconvert_exporter": "python",
   "pygments_lexer": "ipython3",
   "version": "3.7.6"
  }
 },
 "nbformat": 4,
 "nbformat_minor": 4
}
