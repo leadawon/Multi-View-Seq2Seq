{
 "cells": [
  {
   "cell_type": "code",
   "execution_count": 1,
   "metadata": {},
   "outputs": [],
   "source": [
    "arr = [[15483,  9213,    35,   222,    47,   465,     5,   633,   648,   116,\n",
    "          9411,    35,   117, 11051,     6,   202, 17580,  4832,   495,  1721,\n",
    "          9213,    35,  2489,   298, 11695,     6,   226,  6372,  1862, 34424,\n",
    "          9411,    35,   939,   657,    24,     6, 19841,    62,    23,  5996,\n",
    "             6,  2494,  1612,   111,    99,  1493,   115,    10,   313,   236,\n",
    "           116,  9213,    35,    10, 24288,   116, 48306,  9411,    35,   218,\n",
    "            75,    28,  1266,   734,  1437,  9213,    35,    53,  3640,     6,\n",
    "           127, 12563,    34,    41,   904,    25,    10,  3812,   695,  1044,\n",
    "            23,    39,   138,     6,    32,    47,  2509,   116,  9411,    35,\n",
    "           686,   631,     6,   109,    47,    33,   143,  1254,   116,  9213,\n",
    "            35, 28696, 21710,  1215, 17827, 15698,  9411,    35,    14,   888,\n",
    "          1326,  2579,     6,   197,    38,  1338,    66,  2024,     7,   110,\n",
    "          1441,    50,    95,  3253,     7,    42,  1047,  1100,    31,     5,\n",
    "         27314,   116,  9213,    35,    24,    18,    39,  1047,     6,    47,\n",
    "            64,  2142,   110,  6654,  2024,     8,    38,    40,  4521,     7,\n",
    "           123,    54,    47,    32, 44660,     2],\n",
    "        [    1,     1,     1,     1,     1,     1,     1,     1,     1,     1,\n",
    "             1,     1,     1,     1,     1,     1,     1,     1,     1,     1,\n",
    "             1, 15483,  2668,    35, 12289,     6,    99,    18,    62,   116,\n",
    "          1636,    35,  5654,  6711,   326, 22549,     6,    38,    21,   164,\n",
    "             7,   109,  3739,     9,  2682,    53,  1249,    62, 17987, 16136,\n",
    "         15647,  2668,    35,   653,   222,    47,   563,    15,   608,   116,\n",
    "          1636,    35,  5534,    47,   216,     6,   542,   118,  2682,     8,\n",
    "          9515, 24029,   127,   929,  1636,    35,  5359,  3859,    38,   581,\n",
    "           517,   127,  8446,     8,   109,   960,  1636,    35,   166,    58,\n",
    "           164,     7,  3816, 28050,    10, 22087,    98,  1386,     9,  3482,\n",
    "            38,   581,  3529,   103,  3816, 28050,   196, 32065,  2668,    35,\n",
    "           286,   608,  2682,    38,  5940, 26263,  1630, 11104,  9205,   147,\n",
    "          1717,   304,  6383,    13,   608, 32824,  1721,  2668,    35,    85,\n",
    "           269,  2607,  1636,    35,  2446,     6,  2085,    38,   581,   109,\n",
    "            14,  1721,  2668,    35,    38,    67,   101,   634,   618,    12,\n",
    "          2629,    11,   449, 26528,  2496,     2],\n",
    "        [    1,     1,     1,     1,     1,     1,     1,     1,     1,     1,\n",
    "             1,     1,     1,     1,     1,     1,     1,     1,     1,     1,\n",
    "             1,     1,     1,     1,     1,     1,     1,     1,     1,     1,\n",
    "             1,     1,     1,     1,     1,     1,     1,     1,     1,     1,\n",
    "             1,     1,     1,     1,     1,     1,     1,     1,     1,     1,\n",
    "         15483,  7895,    35, 11468,   328,  1336,    21,   110,   183,   116,\n",
    "          1721,  5245,   118,    35, 11468,    89,   328,  1437,  5245,   118,\n",
    "            35,    85,    21,  1256,  2051,     6,   888,     6,  3392,    47,\n",
    "           328,  5245,   118,    35,    38,    95,   300,  7715,   328,  4832,\n",
    "           495,  7895,    35,  3394,   102,   328,  2860,   340,   328,  7895,\n",
    "            35, 24953,   328,  7895,    35,  5598,    10,  1282,    34,     7,\n",
    "            28,  5417,     4,  5245,   118,    35,    38,  2854,   328,  4832,\n",
    "           495,  1721,  5245,   118,    35, 11765,    23, 11644,   359,   944,\n",
    "         36380,  7895,    35,  9136,   328,  7895,    35,  4250,    47,    89,\n",
    "            23,   158,  1685,   116,  5245,   118,    35,  8976,   328,  4250,\n",
    "            47,    89,   328,  4832,   495,     2],\n",
    "        [    1,     1,     1,     1,     1,     1,     1,     1,     1,     1,\n",
    "             1,     1,     1,     1,     1,     1,     1,     1,     1,     1,\n",
    "             1,     1,     1,     1,     1,     1,     1,     1,     1,     1,\n",
    "             1,     1,     1,     1,     1,     1,     1,     1,     1,     1,\n",
    "             1,     1,     1,     1,     1,     1,     1,     1,     1,     1,\n",
    "             1, 15483, 21344,    35, 12289,    89,     6,   473,  1268,  2145,\n",
    "            99,  1248,    38,   300,  2997,    15,   116,  1599,    35,  3945,\n",
    "            47,  1473,   116, 21344,    35,  9088,  1473,     4,   166,   214,\n",
    "            15,  7196,     6,     8, 15720,    18,  7758,    23,   162,    59,\n",
    "           402,     4,    38,    33,    10,  7782,  8551,    14,    42,   429,\n",
    "            33,   402,     7,   109,    19,    84,  3312,  4038,     6,    53,\n",
    "            38,    33,  9261,     7,  1649,     4,  1721, 18876,    35, 12403,\n",
    "            15,     6,    38,   581,  1394,   127,  1141,     4,  1721,  1599,\n",
    "            35,   289, 11695,     6,   951,    18,    11,    10,   319,     9,\n",
    "          3605,  4832,   495, 18876,    35,   772,   601,     4,    38,  1034,\n",
    "            47,  2145,     5,    76, 48306,     2],\n",
    "        [    1,     1,     1,     1,     1,     1,     1,     1,     1,     1,\n",
    "             1,     1,     1,     1,     1,     1,     1,     1,     1,     1,\n",
    "             1,     1,     1,     1,     1,     1,     1,     1,     1,     1,\n",
    "             1,     1,     1,     1,     1,     1,     1,     1,     1,     1,\n",
    "             1,     1,     1,     1,     1,     1,     1,     1,     1,     1,\n",
    "             1,     1,     1,     1,     1,     1,     1, 15483, 16666,    35,\n",
    "          3401,  8736,   162,   220,    86,    14,   350,   203,  3984,   965,\n",
    "            75,   205,    13,   162,     8,   162,  3817, 16666,    35, 12403,\n",
    "          2137,    16,    65,   631, 16666,    35,   125,    38,   619,   101,\n",
    "           393, 10238,  3984,   456, 11899,    35,   289,   895, 11695,     4,\n",
    "           370,    58,    98, 10789,    19,  3984,    94,   363,     6,    47,\n",
    "          1705,    75,  1656,  1359,   190,   195,  2402, 11899,    35,   370,\n",
    "           362,   160,   110,    52, 13118,  3758,     8, 15355,    22,  2387,\n",
    "          9761,   113,  1721, 16666,    35,   121, 36646,     4,    38,    33,\n",
    "           117,   909,  4518,    98,    38,   216,  2230,    99,     7,   619,\n",
    "         18484,   271, 29591,    59, 17220,     2]]"
   ]
  },
  {
   "cell_type": "code",
   "execution_count": 2,
   "metadata": {},
   "outputs": [],
   "source": [
    "from transformers import AutoTokenizer\n",
    "tokenizer = AutoTokenizer.from_pretrained('roberta-base')\n",
    "result = tokenizer(text='the needs of the many', text_pair='outweigh the needs of the few')\n",
    "input_ids = result['input_ids']"
   ]
  },
  {
   "cell_type": "code",
   "execution_count": 4,
   "metadata": {},
   "outputs": [
    {
     "name": "stdout",
     "output_type": "stream",
     "text": [
      "| Leon: did you find the job yet? Arthur: no bro, still unemployed :D | Leon: hahaha, LIVING LIFE Arthur: i love it, waking up at noon, watching sports - what else could a man want? Leon: a paycheck? ;) Arthur: don't be mean...  Leon: but seriously, my mate has an offer as a junior project manager at his company, are you interested? Arthur: sure thing, do you have any details? Leon: <file_photo> Arthur: that actually looks nice, should I reach out directly to your friend or just apply to this email address from the screenshot? Leon: it's his email, you can send your resume directly and I will mention to him who you are :)</s>\n",
      "#####\n",
      "<pad><pad><pad><pad><pad><pad><pad><pad><pad><pad><pad><pad><pad><pad><pad><pad><pad><pad><pad><pad><pad>| Tim: Hi, what's up? Kim: Bad mood tbh, I was going to do lots of stuff but ended up procrastinating Tim: What did you plan on doing? Kim: Oh you know, uni stuff and unfucking my room Kim: Maybe tomorrow I'll move my ass and do everything Kim: We were going to defrost a fridge so instead of shopping I'll eat some defrosted veggies Tim: For doing stuff I recommend Pomodoro technique where u use breaks for doing chores | Tim: It really helps Kim: thanks, maybe I'll do that | Tim: I also like using post-its in kaban style</s>\n",
      "#####\n",
      "<pad><pad><pad><pad><pad><pad><pad><pad><pad><pad><pad><pad><pad><pad><pad><pad><pad><pad><pad><pad><pad><pad><pad><pad><pad><pad><pad><pad><pad><pad><pad><pad><pad><pad><pad><pad><pad><pad><pad><pad><pad><pad><pad><pad><pad><pad><pad><pad><pad><pad>| Lucas: Hey! How was your day? | Demi: Hey there!  Demi: It was pretty fine, actually, thank you! Demi: I just got promoted! :D Lucas: Whoa! Great news! Lucas: Congratulations! Lucas: Such a success has to be celebrated. Demi: I agree! :D | Demi: Tonight at Death & Co.? Lucas: Sure! Lucas: See you there at 10pm? Demi: Yeah! See you there! :D</s>\n",
      "#####\n",
      "<pad><pad><pad><pad><pad><pad><pad><pad><pad><pad><pad><pad><pad><pad><pad><pad><pad><pad><pad><pad><pad><pad><pad><pad><pad><pad><pad><pad><pad><pad><pad><pad><pad><pad><pad><pad><pad><pad><pad><pad><pad><pad><pad><pad><pad><pad><pad><pad><pad><pad><pad>| Neville: Hi there, does anyone remember what date I got married on? Don: Are you serious? Neville: Dead serious. We're on vacation, and Tina's mad at me about something. I have a strange suspicion that this might have something to do with our wedding anniversary, but I have nowhere to check. | Wyatt: Hang on, I'll ask my wife. | Don: Haha, someone's in a lot of trouble :D Wyatt: September 17. I hope you remember the year ;)</s>\n",
      "#####\n",
      "<pad><pad><pad><pad><pad><pad><pad><pad><pad><pad><pad><pad><pad><pad><pad><pad><pad><pad><pad><pad><pad><pad><pad><pad><pad><pad><pad><pad><pad><pad><pad><pad><pad><pad><pad><pad><pad><pad><pad><pad><pad><pad><pad><pad><pad><pad><pad><pad><pad><pad><pad><pad><pad><pad><pad><pad><pad>| Betty: Please remind me next time that too much wine isn't good for me and me surrounding Betty: Hangover is one thing Betty: But I feel like never touching wine again Amber: Hahaha. You were so drunk with wine last night, you couldn't walk straight even 5 steps Amber: You took off your weeding ring and shouted \"My precious\" | Betty: Uhh. I have no blackouts so I know exactly what to feel embarassed about....</s>\n",
      "#####\n"
     ]
    }
   ],
   "source": [
    "for i in arr:\n",
    "    print(tokenizer.decode(i))\n",
    "    print(\"#####\")"
   ]
  },
  {
   "cell_type": "code",
   "execution_count": 6,
   "metadata": {},
   "outputs": [],
   "source": [
    "arr2 = [[34792,    35,   222,    47,   465,     5,   633,   648,   116,  1721,\n",
    "         9411,    35,   117, 11051,     6,   202, 17580,  4832,   495,  9213,\n",
    "           35,  2489,   298, 11695,     6,   226,  6372,  1862, 34424,  9411,\n",
    "           35,   939,   657,    24,     6, 19841,    62,    23,  5996,     6,\n",
    "         2494,  1612,   111,    99,  1493,   115,    10,   313,   236,   116,\n",
    "         1721,  9213,    35,    10, 24288,   116, 48306,  9411,    35,   218,\n",
    "           75,    28,  1266,   734,  1437,  1721,  9213,    35,    53,  3640,\n",
    "            6,   127, 12563,    34,    41,   904,    25,    10,  3812,   695,\n",
    "         1044,    23,    39,   138,     6,    32,    47,  2509,   116,  9411,\n",
    "           35,   686,   631,     6,   109,    47,    33,   143,  1254,   116,\n",
    "         9213,    35, 28696, 21710,  1215, 17827, 15698,  1721,  9411,    35,\n",
    "           14,   888,  1326,  2579,     6,   197,    38,  1338,    66,  2024,\n",
    "            7,   110,  1441,    50,    95,  3253,     7,    42,  1047,  1100,\n",
    "           31,     5, 27314,   116,  9213,    35,    24,    18,    39,  1047,\n",
    "            6,    47,    64,  2142,   110,  6654,  2024,     8,    38,    40,\n",
    "         4521,     7,   123,    54,    47,    32, 44660,  1721,     2]]"
   ]
  },
  {
   "cell_type": "code",
   "execution_count": 7,
   "metadata": {},
   "outputs": [
    {
     "name": "stdout",
     "output_type": "stream",
     "text": [
      "Leon: did you find the job yet? | Arthur: no bro, still unemployed :D Leon: hahaha, LIVING LIFE Arthur: i love it, waking up at noon, watching sports - what else could a man want? | Leon: a paycheck? ;) Arthur: don't be mean...  | Leon: but seriously, my mate has an offer as a junior project manager at his company, are you interested? Arthur: sure thing, do you have any details? Leon: <file_photo> | Arthur: that actually looks nice, should I reach out directly to your friend or just apply to this email address from the screenshot? Leon: it's his email, you can send your resume directly and I will mention to him who you are :) |</s>\n",
      "#####\n"
     ]
    }
   ],
   "source": [
    "for i in arr2:\n",
    "    print(tokenizer.decode(i))\n",
    "    print(\"#####\")"
   ]
  }
 ],
 "metadata": {
  "kernelspec": {
   "display_name": "dhvenv",
   "language": "python",
   "name": "dhvenv"
  },
  "language_info": {
   "codemirror_mode": {
    "name": "ipython",
    "version": 3
   },
   "file_extension": ".py",
   "mimetype": "text/x-python",
   "name": "python",
   "nbconvert_exporter": "python",
   "pygments_lexer": "ipython3",
   "version": "3.7.6"
  },
  "orig_nbformat": 4
 },
 "nbformat": 4,
 "nbformat_minor": 2
}
