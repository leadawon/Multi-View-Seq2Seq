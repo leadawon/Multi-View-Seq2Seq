{
 "cells": [
  {
   "cell_type": "code",
   "execution_count": 1,
   "metadata": {},
   "outputs": [],
   "source": [
    "import json\n"
   ]
  },
  {
   "cell_type": "code",
   "execution_count": 2,
   "metadata": {},
   "outputs": [],
   "source": [
    "with open(\"test.json\") as f:\n",
    "    raw_datasets = json.load(f)"
   ]
  },
  {
   "cell_type": "code",
   "execution_count": 27,
   "metadata": {},
   "outputs": [],
   "source": [
    "with open(\"info.jsonl\",\"w\") as info, open(\"current.jsonl\",\"w\") as current, open(\"response.jsonl\",\"w\") as response:\n",
    "    for dic in raw_datasets:\n",
    "        json.dump(dic[\"info\"], info, ensure_ascii=False)\n",
    "        json.dump(dic[\"current\"], current, ensure_ascii=False)\n",
    "        json.dump(dic[\"response\"], response, ensure_ascii=False)\n",
    "        "
   ]
  }
 ],
 "metadata": {
  "kernelspec": {
   "display_name": "myvenv",
   "language": "python",
   "name": "myvenv"
  },
  "language_info": {
   "codemirror_mode": {
    "name": "ipython",
    "version": 3
   },
   "file_extension": ".py",
   "mimetype": "text/x-python",
   "name": "python",
   "nbconvert_exporter": "python",
   "pygments_lexer": "ipython3",
   "version": "3.7.6"
  },
  "orig_nbformat": 4
 },
 "nbformat": 4,
 "nbformat_minor": 2
}
